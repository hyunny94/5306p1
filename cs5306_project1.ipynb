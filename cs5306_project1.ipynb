{
 "cells": [
  {
   "cell_type": "markdown",
   "metadata": {},
   "source": [
    "### 0. Importing and loading the data\n"
   ]
  },
  {
   "cell_type": "code",
   "execution_count": 1,
   "metadata": {
    "colab": {},
    "colab_type": "code",
    "id": "ZLKNbrxVz7sI"
   },
   "outputs": [],
   "source": [
    "# importing packages\n",
    "%matplotlib inline\n",
    "import json\n",
    "import matplotlib.pyplot as plt\n",
    "import pandas as pd\n",
    "import datetime\n",
    "import statistics\n",
    "import time\n",
    "from calendar import monthrange"
   ]
  },
  {
   "cell_type": "code",
   "execution_count": 74,
   "metadata": {
    "colab": {
     "base_uri": "https://localhost:8080/",
     "height": 215
    },
    "colab_type": "code",
    "executionInfo": {
     "elapsed": 484,
     "status": "error",
     "timestamp": 1537922503561,
     "user": {
      "displayName": "Hyun Kyo Jung",
      "photoUrl": "",
      "userId": "01219288441530398451"
     },
     "user_tz": 240
    },
    "id": "vfCXXIJKz7sL",
    "outputId": "17a54803-794b-4dad-b9ee-da785a536290"
   },
   "outputs": [],
   "source": [
    "# importing commit data of bitcoin, numpy, react projects on github\n",
    "with open('bitcoin_commits.json') as f:\n",
    "    bitcoin_data = json.load(f)\n",
    "with open('numpy_commits.json') as f:\n",
    "    numpy_data = json.load(f)\n",
    "with open('react_commits.json') as f:\n",
    "    react_data = json.load(f)"
   ]
  },
  {
   "cell_type": "code",
   "execution_count": 75,
   "metadata": {},
   "outputs": [],
   "source": [
    "# creating pandas dataframe from the loaded files\n",
    "b_df = pd.DataFrame(bitcoin_data)\n",
    "n_df = pd.DataFrame(numpy_data)\n",
    "r_df = pd.DataFrame(react_data)"
   ]
  },
  {
   "cell_type": "markdown",
   "metadata": {},
   "source": [
    "### 1. Preprocessing the data\n",
    "1. change the time from seconds to datetime\n",
    "2. sort the array by commit time\n",
    "3. create a field \"month\""
   ]
  },
  {
   "cell_type": "code",
   "execution_count": 77,
   "metadata": {},
   "outputs": [],
   "source": [
    "# 1. Changing the time from seconds to the datetime \n",
    "# Run this only once (when first loading the data)\n",
    "b_df[\"committer_time\"] = [datetime.datetime.fromtimestamp(i/1000.0) for i in b_df[\"committer_time\"]]\n",
    "n_df[\"committer_time\"] = [datetime.datetime.fromtimestamp(i/1000.0) for i in n_df[\"committer_time\"]]\n",
    "r_df[\"committer_time\"] = [datetime.datetime.fromtimestamp(i/1000.0) for i in r_df[\"committer_time\"]]"
   ]
  },
  {
   "cell_type": "code",
   "execution_count": 78,
   "metadata": {},
   "outputs": [],
   "source": [
    "# 2. Sorting by time\n",
    "n_df = n_df.sort_values(by=['committer_time'])\n",
    "b_df = b_df.sort_values(by=['committer_time'])\n",
    "r_df = r_df.sort_values(by=['committer_time'])"
   ]
  },
  {
   "cell_type": "code",
   "execution_count": 79,
   "metadata": {},
   "outputs": [],
   "source": [
    "# 3. Creating the field \"month\"\n",
    "n_df[\"month\"]=[100*i.year+i.month for i in n_df[\"committer_time\"]]\n",
    "r_df[\"month\"]=[100*i.year+i.month for i in r_df[\"committer_time\"]]\n",
    "b_df[\"month\"]=[100*i.year+i.month for i in b_df[\"committer_time\"]]"
   ]
  },
  {
   "cell_type": "markdown",
   "metadata": {},
   "source": [
    "### 2. Preliminary information about the projects"
   ]
  },
  {
   "cell_type": "code",
   "execution_count": 81,
   "metadata": {},
   "outputs": [],
   "source": [
    "index = ['bitcoin', 'numpy', 'react']\n",
    "column = ['number of commits', 'number of contributors', 'first date', 'last date']"
   ]
  },
  {
   "cell_type": "code",
   "execution_count": 82,
   "metadata": {},
   "outputs": [],
   "source": [
    "b_num_commit = b_df.shape[0]\n",
    "n_num_commit = n_df.shape[0]\n",
    "r_num_commit = r_df.shape[0]"
   ]
  },
  {
   "cell_type": "code",
   "execution_count": 83,
   "metadata": {},
   "outputs": [],
   "source": [
    "b_num_cont = len(set(b_df[\"author_name\"]))\n",
    "n_num_cont = len(set(n_df[\"author_name\"]))\n",
    "r_num_cont = len(set(r_df[\"author_name\"]))"
   ]
  },
  {
   "cell_type": "code",
   "execution_count": 84,
   "metadata": {},
   "outputs": [],
   "source": [
    "b_start = b_df['committer_time'][0]\n",
    "n_start = n_df['committer_time'][0]\n",
    "r_start = r_df['committer_time'][0]"
   ]
  },
  {
   "cell_type": "code",
   "execution_count": 85,
   "metadata": {},
   "outputs": [],
   "source": [
    "b_last_list = list(b_df['committer_time'])\n",
    "b_last_list.sort()\n",
    "n_last_list = list(n_df['committer_time'])\n",
    "n_last_list.sort()\n",
    "r_last_list = list(r_df['committer_time'])\n",
    "r_last_list.sort()"
   ]
  },
  {
   "cell_type": "code",
   "execution_count": 86,
   "metadata": {},
   "outputs": [
    {
     "data": {
      "text/html": [
       "<div>\n",
       "<style scoped>\n",
       "    .dataframe tbody tr th:only-of-type {\n",
       "        vertical-align: middle;\n",
       "    }\n",
       "\n",
       "    .dataframe tbody tr th {\n",
       "        vertical-align: top;\n",
       "    }\n",
       "\n",
       "    .dataframe thead th {\n",
       "        text-align: right;\n",
       "    }\n",
       "</style>\n",
       "<table border=\"1\" class=\"dataframe\">\n",
       "  <thead>\n",
       "    <tr style=\"text-align: right;\">\n",
       "      <th></th>\n",
       "      <th>number of commits</th>\n",
       "      <th>number of contributors</th>\n",
       "      <th>first date</th>\n",
       "      <th>last date</th>\n",
       "    </tr>\n",
       "  </thead>\n",
       "  <tbody>\n",
       "    <tr>\n",
       "      <th>bitcoin</th>\n",
       "      <td>36302</td>\n",
       "      <td>1210</td>\n",
       "      <td>2009-08-29 23:46:39</td>\n",
       "      <td>2018-01-18 10:05:40</td>\n",
       "    </tr>\n",
       "    <tr>\n",
       "      <th>numpy</th>\n",
       "      <td>24552</td>\n",
       "      <td>937</td>\n",
       "      <td>2001-12-18 10:45:10</td>\n",
       "      <td>2018-01-18 10:05:40</td>\n",
       "    </tr>\n",
       "    <tr>\n",
       "      <th>react</th>\n",
       "      <td>24157</td>\n",
       "      <td>2138</td>\n",
       "      <td>2013-05-29 08:54:02</td>\n",
       "      <td>2018-01-18 10:05:40</td>\n",
       "    </tr>\n",
       "  </tbody>\n",
       "</table>\n",
       "</div>"
      ],
      "text/plain": [
       "         number of commits  number of contributors          first date  \\\n",
       "bitcoin              36302                    1210 2009-08-29 23:46:39   \n",
       "numpy                24552                     937 2001-12-18 10:45:10   \n",
       "react                24157                    2138 2013-05-29 08:54:02   \n",
       "\n",
       "                  last date  \n",
       "bitcoin 2018-01-18 10:05:40  \n",
       "numpy   2018-01-18 10:05:40  \n",
       "react   2018-01-18 10:05:40  "
      ]
     },
     "execution_count": 86,
     "metadata": {},
     "output_type": "execute_result"
    }
   ],
   "source": [
    "projects = pd.DataFrame([[b_num_commit,b_num_cont,b_start,b_last_list[-1]],\\\n",
    "                         [n_num_commit,n_num_cont,n_start,b_last_list[-1]],\\\n",
    "                         [r_num_commit,r_num_cont,r_start,b_last_list[-1]]],index=index,columns=column)\n",
    "projects"
   ]
  },
  {
   "cell_type": "markdown",
   "metadata": {},
   "source": [
    "### 3. Options for picking the dividing point\n",
    "1. largest number of new contributors\n",
    "2. largest increase in the number of contributors"
   ]
  },
  {
   "cell_type": "code",
   "execution_count": 87,
   "metadata": {},
   "outputs": [],
   "source": [
    "def pick_div(df):\n",
    "    '''\n",
    "    return the dividing point in time between old and new contributors\n",
    "    i.e the month with the largest number of new contributors\n",
    "    '''\n",
    "    months = list(set(df['month']))\n",
    "    months.sort()\n",
    "    div_month = 0\n",
    "    largest = 0\n",
    "    old_users = set()\n",
    "    for i in months:\n",
    "        is_month_i = df[df[\"month\"]==i]\n",
    "        curr_month_users = set(is_month_i[\"committer_name_dedup\"])\n",
    "        new_users = curr_month_users - old_users\n",
    "        old_users = old_users.union(new_users)\n",
    "        if len(new_users) > largest:\n",
    "            largest = len(new_users)\n",
    "            div_month = i\n",
    "        prev_month = len(curr_month_users)\n",
    "    return div_month"
   ]
  },
  {
   "cell_type": "code",
   "execution_count": 88,
   "metadata": {},
   "outputs": [],
   "source": [
    "def pick_div2(df):\n",
    "    '''\n",
    "    return the dividing point in time between old and new contributors\n",
    "    i.e the month with the largest increase in the number of contributors\n",
    "    '''\n",
    "    months = list(set(df['month']))\n",
    "    months.sort()\n",
    "    prev_month = 0\n",
    "    div_month = 0\n",
    "    largest_jump = 0\n",
    "    for i in months:\n",
    "        is_month_i = df[df[\"month\"]==i]\n",
    "        diff = len(set(is_month_i[\"committer_name_dedup\"])) - prev_month\n",
    "        if diff > largest_jump:\n",
    "            largest_jump = diff\n",
    "            div_month = i\n",
    "        prev_month = len(set(is_month_i[\"committer_name_dedup\"]))\n",
    "    return div_month"
   ]
  },
  {
   "cell_type": "code",
   "execution_count": 89,
   "metadata": {},
   "outputs": [
    {
     "name": "stdout",
     "output_type": "stream",
     "text": [
      "Numpy's diving point using the first method of picking the dividing point is 201601\n",
      "Numpy's diving point using the second method of picking the dividing point is 201510\n",
      "React's diving point using the first method of picking the dividing point is 201510\n",
      "React's diving point using the second of picking the dividing point is 201510\n",
      "Bitcoin's diving point using the first method of picking the dividing point is 201403\n",
      "Bitcoin's diving point using the second of picking the dividing point is 201403\n"
     ]
    }
   ],
   "source": [
    "print(\"Numpy's diving point using the first method of picking the dividing point is {}\".format(pick_div(n_df)))\n",
    "print(\"Numpy's diving point using the second method of picking the dividing point is {}\".format(pick_div2(n_df)))\n",
    "print(\"React's diving point using the first method of picking the dividing point is {}\".format(pick_div(r_df)))\n",
    "print(\"React's diving point using the second of picking the dividing point is {}\".format(pick_div2(r_df)))\n",
    "print(\"Bitcoin's diving point using the first method of picking the dividing point is {}\".format(pick_div(b_df)))\n",
    "print(\"Bitcoin's diving point using the second of picking the dividing point is {}\".format(pick_div2(b_df)))"
   ]
  },
  {
   "cell_type": "markdown",
   "metadata": {},
   "source": [
    "##### Findings\n",
    "1. Looks like the two methods are returning almost identical month proving that they are good identifier of the dividing point"
   ]
  },
  {
   "cell_type": "markdown",
   "metadata": {},
   "source": [
    "### 4. Visualizing the dividing point"
   ]
  },
  {
   "cell_type": "code",
   "execution_count": 90,
   "metadata": {},
   "outputs": [],
   "source": [
    "def vis_div(df, title):\n",
    "    '''\n",
    "    visualize the dividing point\n",
    "    '''\n",
    "    months = set(df['month'])\n",
    "    months = list(months)\n",
    "    months.sort()\n",
    "    month_dict = {}\n",
    "    for i in months:\n",
    "        is_month_i = df[df[\"month\"]==i]\n",
    "        month_dict[i]=len(set(is_month_i[\"committer_name_dedup\"]))\n",
    "    plt.ylabel('Number of contributors')\n",
    "    plt.xlabel('YearMonth')\n",
    "    plt.title(title)\n",
    "    plt.scatter(list(month_dict.keys()),list(month_dict.values()))\n",
    "    plt.show()"
   ]
  },
  {
   "cell_type": "code",
   "execution_count": 18,
   "metadata": {},
   "outputs": [
    {
     "data": {
      "image/png": "[encoded data removed]",
      "text/plain": [
       "<Figure size 432x288 with 1 Axes>"
      ]
     },
     "metadata": {
      "needs_background": "light"
     },
     "output_type": "display_data"
    },
    {
     "data": {
      "image/png": "[encoded data removed]",
      "text/plain": [
       "<Figure size 432x288 with 1 Axes>"
      ]
     },
     "metadata": {
      "needs_background": "light"
     },
     "output_type": "display_data"
    },
    {
     "data": {
      "image/png": "[encoded data removed]",
      "text/plain": [
       "<Figure size 432x288 with 1 Axes>"
      ]
     },
     "metadata": {
      "needs_background": "light"
     },
     "output_type": "display_data"
    }
   ],
   "source": [
    "vis_div(bitcoin_df, \"Bitcoin Contributors\")\n",
    "vis_div(numpy_df, \"Numpy Contributors\")\n",
    "vis_div(react_df, \"React Contributors\")"
   ]
  },
  {
   "cell_type": "markdown",
   "metadata": {},
   "source": [
    "### 5. Find the old users"
   ]
  },
  {
   "cell_type": "code",
   "execution_count": 19,
   "metadata": {},
   "outputs": [],
   "source": [
    "def old_users(df):\n",
    "    '''\n",
    "    return the Pandas dataframe of commits done only by the old users\n",
    "    '''\n",
    "    div = pick_div(df)\n",
    "    s = set(df['author_name'])\n",
    "    old_users = []\n",
    "    for a in s:\n",
    "        a_df = df[df['author_name'] == a]\n",
    "        a_commit_time_list = list(a_df[\"committer_time\"])\n",
    "        a_commit_time_list.sort()\n",
    "        first = a_commit_time_list[0]\n",
    "        first = str(first.year) + '' + str(first.month) if first.month >= 10 else str(first.year) + '0' + str(first.month)\n",
    "        if int(first) >= div:\n",
    "            continue\n",
    "        old_users.append(a)\n",
    "    return df[df['author_name'].isin(old_users)]"
   ]
  },
  {
   "cell_type": "code",
   "execution_count": 92,
   "metadata": {},
   "outputs": [],
   "source": [
    "n_old = old_users(n_df)\n",
    "r_old = old_users(r_df)\n",
    "b_old = old_users(b_df)"
   ]
  },
  {
   "cell_type": "code",
   "execution_count": 93,
   "metadata": {},
   "outputs": [
    {
     "name": "stdout",
     "output_type": "stream",
     "text": [
      "Numpy's number of old users is 597\n",
      "React's number of old users is 826\n",
      "Bitcoin's number of old users is 352\n"
     ]
    }
   ],
   "source": [
    "print(\"Numpy's number of old users is {}\".format(len(set(n_old['author_name']))))\n",
    "print(\"React's number of old users is {}\".format(len(set(r_old['author_name']))))\n",
    "print(\"Bitcoin's number of old users is {}\".format(len(set(b_old['author_name']))))"
   ]
  },
  {
   "cell_type": "markdown",
   "metadata": {},
   "source": [
    "### 6. How long do the older users stick around?"
   ]
  },
  {
   "cell_type": "code",
   "execution_count": 22,
   "metadata": {},
   "outputs": [],
   "source": [
    "def stick_around(df):\n",
    "    '''\n",
    "    return 1. the median start date of the old user \n",
    "           2. the median last date of the old user\n",
    "    in 2-tuple form (1, 2)\n",
    "    '''\n",
    "    div = pick_div(df)\n",
    "    s = set(df['author_name'])\n",
    "    n_div = pick_div(df)\n",
    "    firsts = []\n",
    "    lasts = []\n",
    "    for a in s:\n",
    "        a_df = df[df['author_name'] == a]\n",
    "        a_commit_time_list = list(a_df[\"committer_time\"])\n",
    "        a_commit_time_list.sort()\n",
    "        first = a_commit_time_list[0]\n",
    "        first_div_format = str(first.year) + '' + str(first.month) if first.month >= 10 else str(first.year) + '0' + str(first.month)\n",
    "        if int(first_div_format) >= n_div:\n",
    "            continue\n",
    "        last  = a_commit_time_list[-1]\n",
    "        first_int = int(time.mktime(first.timetuple()))\n",
    "        last_int = int(time.mktime(last.timetuple()))\n",
    "        firsts.append(first_int)\n",
    "        lasts.append(last_int)\n",
    "    first_med = statistics.median(firsts)\n",
    "    last_med = statistics.median(lasts)\n",
    "    return (datetime.datetime.fromtimestamp(first_med), datetime.datetime.fromtimestamp(last_med))\n"
   ]
  },
  {
   "cell_type": "code",
   "execution_count": 94,
   "metadata": {},
   "outputs": [
    {
     "name": "stdout",
     "output_type": "stream",
     "text": [
      "The median time React contributors stuck around is between 2014-11-30 22:17:50.500000 and 2015-02-07 10:38:01\n",
      "The median time Numpy contributors stuck around is between 2014-01-05 11:25:25 and 2014-07-23 15:03:14\n",
      "The median time Bitcoin contributors stuck around is between 2012-10-24 03:04:41.500000 and 2013-03-28 15:51:47\n"
     ]
    }
   ],
   "source": [
    "r_median_time = stick_around(r_df)\n",
    "n_median_time = stick_around(n_df)\n",
    "b_median_time = stick_around(b_df)\n",
    "\n",
    "print(\"The median time React contributors stuck around is between %s and %s\" % r_median_time)\n",
    "print(\"The median time Numpy contributors stuck around is between %s and %s\" % n_median_time)\n",
    "print(\"The median time Bitcoin contributors stuck around is between %s and %s\" % b_median_time)"
   ]
  },
  {
   "cell_type": "code",
   "execution_count": 95,
   "metadata": {},
   "outputs": [],
   "source": [
    "def old_before_div(df):\n",
    "    '''\n",
    "    Returns the dataframe containing the commits by the old users before the dividing point\n",
    "    '''\n",
    "    div = pick_div(df)\n",
    "    div_year = int(str(div)[:4])\n",
    "    div_month = int(str(div)[-2:])\n",
    "    div_day = monthrange(div_year, div_month)[1]\n",
    "    div = datetime.datetime(div_year, div_month, div_day)\n",
    "    old_df = old_users(df)\n",
    "    after_div_df = old_df[old_df['committer_time'] <= div]\n",
    "    return after_div_df"
   ]
  },
  {
   "cell_type": "code",
   "execution_count": 96,
   "metadata": {},
   "outputs": [],
   "source": [
    "def old_after_div(df):\n",
    "    '''\n",
    "    Returns the dataframe containing the commits by the old users after the dividing point\n",
    "    '''\n",
    "    div = pick_div(df)\n",
    "    div_year = int(str(div)[:4])\n",
    "    div_month = int(str(div)[-2:])\n",
    "    div_day = monthrange(div_year, div_month)[1]\n",
    "    div = datetime.datetime(div_year, div_month, div_day)\n",
    "    old_df = old_users(df)\n",
    "    after_div_df = old_df[old_df['committer_time'] > div]\n",
    "    return after_div_df"
   ]
  },
  {
   "cell_type": "code",
   "execution_count": 97,
   "metadata": {},
   "outputs": [],
   "source": [
    "n_old_bef = old_before_div(n_df)\n",
    "r_old_bef = old_before_div(r_df)\n",
    "b_old_bef = old_before_div(b_df)\n",
    "n_old_aft = old_after_div(n_df)\n",
    "r_old_aft = old_after_div(r_df)\n",
    "b_old_aft = old_after_div(b_df)"
   ]
  },
  {
   "cell_type": "code",
   "execution_count": 108,
   "metadata": {},
   "outputs": [
    {
     "name": "stdout",
     "output_type": "stream",
     "text": [
      "Number of old contributors\n",
      "Numpy: 597\n",
      "React: 826\n",
      "Bitcoin: 352\n",
      "\n",
      "Number of survivors\n",
      "Numpy: 128\n",
      "React: 94\n",
      "Bitcoin: 61\n",
      "\n",
      "Number of non-survivors\n",
      "Numpy: 469\n",
      "React: 732\n",
      "Bitcoin: 291\n"
     ]
    }
   ],
   "source": [
    "# These guys are the old contributors\n",
    "n_old = set(n_old_bef['author_name'])\n",
    "r_old = set(r_old_bef['author_name'])\n",
    "b_old = set(b_old_bef['author_name'])\n",
    "# These guys are the survivors.\n",
    "n_surv = set(n_old_aft['author_name'])\n",
    "r_surv = set(r_old_aft['author_name'])\n",
    "b_surv = set(b_old_aft['author_name'])\n",
    "# These guys are the non survivors.\n",
    "n_nonsurv = n_old - n_surv\n",
    "r_nonsurv = r_old - r_surv\n",
    "b_nonsurv = b_old - b_surv\n",
    "print(\"Number of old contributors\")\n",
    "print(\"Numpy: {}\".format(len(n_old)))\n",
    "print(\"React: {}\".format(len(r_old)))\n",
    "print(\"Bitcoin: {}\\n\".format(len(b_old)))\n",
    "\n",
    "print(\"Number of survivors\")\n",
    "print(\"Numpy: {}\".format(len(n_surv)))\n",
    "print(\"React: {}\".format(len(r_surv)))\n",
    "print(\"Bitcoin: {}\\n\".format(len(b_surv)))\n",
    "\n",
    "print(\"Number of non-survivors\")\n",
    "print(\"Numpy: {}\".format(len(n_nonsurv)))\n",
    "print(\"React: {}\".format(len(r_nonsurv)))\n",
    "print(\"Bitcoin: {}\".format(len(b_nonsurv)))"
   ]
  },
  {
   "cell_type": "markdown",
   "metadata": {},
   "source": [
    "##### Findings\n",
    "1. Seems like most old contributors leave the project before the project becomes popular! 128 out of 597 from Numpy, 94 out of 826 from React, and 61 out of 352 from Bitcoin survived!"
   ]
  },
  {
   "cell_type": "markdown",
   "metadata": {},
   "source": [
    "### 7. How did old contributors' behaviour change from before the div point ?\n",
    "1. We will take only the old users who kept contributing after the div point (SURVIVORS from now on) to analyze their behaviour"
   ]
  },
  {
   "cell_type": "code",
   "execution_count": 101,
   "metadata": {},
   "outputs": [],
   "source": [
    "# These dataframes contain commits by the survivors\n",
    "n_old_bef_surv = n_old_bef[n_old_bef['author_name'].isin(n_surv)]\n",
    "r_old_bef_surv = r_old_bef[r_old_bef['author_name'].isin(r_surv)]\n",
    "b_old_bef_surv = b_old_bef[b_old_bef['author_name'].isin(b_surv)]"
   ]
  },
  {
   "cell_type": "code",
   "execution_count": 102,
   "metadata": {},
   "outputs": [],
   "source": [
    "# Array to be used as the heights of the first bar chart below. \n",
    "num_commits_array = []\n",
    "num_commits_array.append(len(n_old_bef_surv))\n",
    "num_commits_array.append(len(n_old_aft))\n",
    "num_commits_array.append(len(r_old_bef_surv))\n",
    "num_commits_array.append(len(r_old_aft))\n",
    "num_commits_array.append(len(b_old_bef_surv))\n",
    "num_commits_array.append(len(b_old_aft))"
   ]
  },
  {
   "cell_type": "code",
   "execution_count": 109,
   "metadata": {},
   "outputs": [
    {
     "data": {
      "text/plain": [
       "<BarContainer object of 6 artists>"
      ]
     },
     "execution_count": 109,
     "metadata": {},
     "output_type": "execute_result"
    },
    {
     "data": {
      "image/png": "[encoded data removed]",
      "text/plain": [
       "<Figure size 432x288 with 1 Axes>"
      ]
     },
     "metadata": {
      "needs_background": "light"
     },
     "output_type": "display_data"
    }
   ],
   "source": [
    "plt.ylabel('Number of commits by the survivors')\n",
    "plt.xlabel('Project')\n",
    "plt.title(\"The survivors' number of commits before and after \\n\\n Blue = Before div \\n Red = After div\")\n",
    "plt.bar(x=[1, 2, 4, 5 ,7 ,8], \\\n",
    "        height=num_commits_array, \\\n",
    "        color=['blue','red','blue','red','blue','red'], \\\n",
    "        tick_label=['numpy', 'numpy', 'react', 'react', 'bitcoin', 'bitcoin'])"
   ]
  },
  {
   "cell_type": "code",
   "execution_count": 116,
   "metadata": {},
   "outputs": [],
   "source": [
    "# Array to be used as the heights of the second bar chart below. \n",
    "num_commits_array_2 = []\n",
    "num_commits_array_2.append((len(n_old_bef) - len(n_old_bef_surv)) / len(n_nonsurv))\n",
    "num_commits_array_2.append(len(n_old_bef_surv) / len(n_surv))\n",
    "num_commits_array_2.append((len(r_old_bef) - len(r_old_bef_surv)) / len(r_nonsurv))\n",
    "num_commits_array_2.append(len(r_old_bef_surv) / len(r_surv))\n",
    "num_commits_array_2.append((len(b_old_bef) - len(b_old_bef_surv)) / len(b_nonsurv))\n",
    "num_commits_array_2.append(len(b_old_bef_surv) / len(b_surv))"
   ]
  },
  {
   "cell_type": "code",
   "execution_count": 117,
   "metadata": {},
   "outputs": [
    {
     "data": {
      "text/plain": [
       "<BarContainer object of 6 artists>"
      ]
     },
     "execution_count": 117,
     "metadata": {},
     "output_type": "execute_result"
    },
    {
     "data": {
      "image/png": "[encoded data removed]",
      "text/plain": [
       "<Figure size 432x288 with 1 Axes>"
      ]
     },
     "metadata": {
      "needs_background": "light"
     },
     "output_type": "display_data"
    }
   ],
   "source": [
    "plt.ylabel('Avg number of commits')\n",
    "plt.xlabel('Project')\n",
    "plt.title('Avg number of commits by non-survivors and survivors before the div point \\n\\n Blue = non-survivors \\n Red = survivors')\n",
    "plt.bar(x=[1, 2, 4, 5 ,7 ,8], \\\n",
    "        height=num_commits_array_2, \\\n",
    "        color=['blue','red','blue','red','blue','red'], \\\n",
    "        tick_label=['numpy', 'numpy', 'react', 'react', 'bitcoin', 'bitcoin'])"
   ]
  },
  {
   "cell_type": "markdown",
   "metadata": {},
   "source": [
    "##### Findings\n",
    "1. (From first bar chart) couldn't find a uniform pattern on the change of survivors' number of commit after the div point. (numpy survivors contributed less, but for the other two projects, the survivors started contributing more)\n",
    "2. (From second bar chart) we FOUND that the survivors contributed a lot more to the projects compared to the non-survivors. "
   ]
  },
  {
   "cell_type": "code",
   "execution_count": null,
   "metadata": {},
   "outputs": [],
   "source": []
  },
  {
   "cell_type": "code",
   "execution_count": null,
   "metadata": {},
   "outputs": [],
   "source": []
  },
  {
   "cell_type": "code",
   "execution_count": null,
   "metadata": {},
   "outputs": [],
   "source": []
  },
  {
   "cell_type": "code",
   "execution_count": null,
   "metadata": {},
   "outputs": [],
   "source": []
  },
  {
   "cell_type": "code",
   "execution_count": null,
   "metadata": {},
   "outputs": [],
   "source": []
  },
  {
   "cell_type": "code",
   "execution_count": null,
   "metadata": {},
   "outputs": [],
   "source": []
  },
  {
   "cell_type": "code",
   "execution_count": null,
   "metadata": {},
   "outputs": [],
   "source": []
  },
  {
   "cell_type": "code",
   "execution_count": null,
   "metadata": {},
   "outputs": [],
   "source": []
  },
  {
   "cell_type": "code",
   "execution_count": null,
   "metadata": {},
   "outputs": [],
   "source": []
  },
  {
   "cell_type": "code",
   "execution_count": null,
   "metadata": {},
   "outputs": [],
   "source": []
  },
  {
   "cell_type": "code",
   "execution_count": 33,
   "metadata": {},
   "outputs": [
    {
     "ename": "NameError",
     "evalue": "name 'lists' is not defined",
     "output_type": "error",
     "traceback": [
      "\u001b[0;31m---------------------------------------------------------------------------\u001b[0m\n\u001b[0;31mNameError\u001b[0m                                 Traceback (most recent call last)",
      "\u001b[0;32m<ipython-input-33-035547b9f8b1>\u001b[0m in \u001b[0;36m<module>\u001b[0;34m()\u001b[0m\n\u001b[0;32m----> 1\u001b[0;31m \u001b[0mx\u001b[0m\u001b[0;34m,\u001b[0m \u001b[0my\u001b[0m \u001b[0;34m=\u001b[0m \u001b[0mzip\u001b[0m\u001b[0;34m(\u001b[0m\u001b[0;34m*\u001b[0m\u001b[0mlists\u001b[0m\u001b[0;34m)\u001b[0m \u001b[0;31m# unpack a list of pairs into two tuples\u001b[0m\u001b[0;34m\u001b[0m\u001b[0m\n\u001b[0m\u001b[1;32m      2\u001b[0m \u001b[0;34m\u001b[0m\u001b[0m\n\u001b[1;32m      3\u001b[0m \u001b[0mplt\u001b[0m\u001b[0;34m.\u001b[0m\u001b[0mplot\u001b[0m\u001b[0;34m(\u001b[0m\u001b[0mx\u001b[0m\u001b[0;34m,\u001b[0m \u001b[0my\u001b[0m\u001b[0;34m)\u001b[0m\u001b[0;34m\u001b[0m\u001b[0m\n\u001b[1;32m      4\u001b[0m \u001b[0mplt\u001b[0m\u001b[0;34m.\u001b[0m\u001b[0mshow\u001b[0m\u001b[0;34m(\u001b[0m\u001b[0;34m)\u001b[0m\u001b[0;34m\u001b[0m\u001b[0m\n",
      "\u001b[0;31mNameError\u001b[0m: name 'lists' is not defined"
     ]
    }
   ],
   "source": [
    "x, y = zip(*lists) # unpack a list of pairs into two tuples\n",
    "\n",
    "plt.plot(x, y)\n",
    "plt.show()"
   ]
  },
  {
   "cell_type": "code",
   "execution_count": 70,
   "metadata": {},
   "outputs": [],
   "source": [
    "import collections"
   ]
  },
  {
   "cell_type": "code",
   "execution_count": 71,
   "metadata": {},
   "outputs": [
    {
     "data": {
      "text/plain": [
       "collections.OrderedDict"
      ]
     },
     "execution_count": 71,
     "metadata": {},
     "output_type": "execute_result"
    }
   ],
   "source": [
    "collections.OrderedDict"
   ]
  },
  {
   "cell_type": "code",
   "execution_count": null,
   "metadata": {},
   "outputs": [],
   "source": []
  },
  {
   "cell_type": "code",
   "execution_count": 63,
   "metadata": {},
   "outputs": [
    {
     "data": {
      "text/html": [
       "<div>\n",
       "<style scoped>\n",
       "    .dataframe tbody tr th:only-of-type {\n",
       "        vertical-align: middle;\n",
       "    }\n",
       "\n",
       "    .dataframe tbody tr th {\n",
       "        vertical-align: top;\n",
       "    }\n",
       "\n",
       "    .dataframe thead th {\n",
       "        text-align: right;\n",
       "    }\n",
       "</style>\n",
       "<table border=\"1\" class=\"dataframe\">\n",
       "  <thead>\n",
       "    <tr style=\"text-align: right;\">\n",
       "      <th></th>\n",
       "      <th>age</th>\n",
       "      <th>author_email</th>\n",
       "      <th>author_email_dedup</th>\n",
       "      <th>author_name</th>\n",
       "      <th>author_name_dedup</th>\n",
       "      <th>author_time</th>\n",
       "      <th>committer_email</th>\n",
       "      <th>committer_email_dedup</th>\n",
       "      <th>committer_name</th>\n",
       "      <th>committer_name_dedup</th>\n",
       "      <th>...</th>\n",
       "      <th>delay</th>\n",
       "      <th>id</th>\n",
       "      <th>ismerge</th>\n",
       "      <th>loc_d</th>\n",
       "      <th>loc_i</th>\n",
       "      <th>message</th>\n",
       "      <th>ndiffs</th>\n",
       "      <th>nfiles</th>\n",
       "      <th>squashof</th>\n",
       "      <th>month</th>\n",
       "    </tr>\n",
       "  </thead>\n",
       "  <tbody>\n",
       "    <tr>\n",
       "      <th>0</th>\n",
       "      <td>-1</td>\n",
       "      <td>e***@enthought.com</td>\n",
       "      <td>e***@enthought.com</td>\n",
       "      <td>Eric Jones</td>\n",
       "      <td>Eric Jones</td>\n",
       "      <td>2001-12-18 10:45:10</td>\n",
       "      <td>e***@enthought.com</td>\n",
       "      <td>e***@enthought.com</td>\n",
       "      <td>Eric Jones</td>\n",
       "      <td>Eric Jones</td>\n",
       "      <td>...</td>\n",
       "      <td>0</td>\n",
       "      <td>f1a2d6376c430f65550efa235209b86c1a0967e3</td>\n",
       "      <td>False</td>\n",
       "      <td>0</td>\n",
       "      <td>1337</td>\n",
       "      <td>factored out the scipy specific distutils code...</td>\n",
       "      <td>1</td>\n",
       "      <td>14</td>\n",
       "      <td>-1</td>\n",
       "      <td>2001-12</td>\n",
       "    </tr>\n",
       "    <tr>\n",
       "      <th>1</th>\n",
       "      <td>-1</td>\n",
       "      <td>e***@enthought.com</td>\n",
       "      <td>e***@enthought.com</td>\n",
       "      <td>Eric Jones</td>\n",
       "      <td>Eric Jones</td>\n",
       "      <td>2001-12-25 01:03:41</td>\n",
       "      <td>e***@enthought.com</td>\n",
       "      <td>e***@enthought.com</td>\n",
       "      <td>Eric Jones</td>\n",
       "      <td>Eric Jones</td>\n",
       "      <td>...</td>\n",
       "      <td>0</td>\n",
       "      <td>74a4958b94e07b2e3218741fb52d32e87308d62e</td>\n",
       "      <td>False</td>\n",
       "      <td>0</td>\n",
       "      <td>303</td>\n",
       "      <td>split scipy_test off into its own module.\\n</td>\n",
       "      <td>1</td>\n",
       "      <td>3</td>\n",
       "      <td>-1</td>\n",
       "      <td>2001-12</td>\n",
       "    </tr>\n",
       "    <tr>\n",
       "      <th>2</th>\n",
       "      <td>-1</td>\n",
       "      <td>e***@enthought.com</td>\n",
       "      <td>e***@enthought.com</td>\n",
       "      <td>Eric Jones</td>\n",
       "      <td>Eric Jones</td>\n",
       "      <td>2001-12-25 01:05:32</td>\n",
       "      <td>e***@enthought.com</td>\n",
       "      <td>e***@enthought.com</td>\n",
       "      <td>Eric Jones</td>\n",
       "      <td>Eric Jones</td>\n",
       "      <td>...</td>\n",
       "      <td>0</td>\n",
       "      <td>a76efe8206df0ec315f67012236577c1e31ad258</td>\n",
       "      <td>False</td>\n",
       "      <td>1</td>\n",
       "      <td>29</td>\n",
       "      <td>added build_py module\\n</td>\n",
       "      <td>1</td>\n",
       "      <td>3</td>\n",
       "      <td>-1</td>\n",
       "      <td>2001-12</td>\n",
       "    </tr>\n",
       "    <tr>\n",
       "      <th>3</th>\n",
       "      <td>-1</td>\n",
       "      <td>e***@enthought.com</td>\n",
       "      <td>e***@enthought.com</td>\n",
       "      <td>Eric Jones</td>\n",
       "      <td>Eric Jones</td>\n",
       "      <td>2001-12-25 01:06:40</td>\n",
       "      <td>e***@enthought.com</td>\n",
       "      <td>e***@enthought.com</td>\n",
       "      <td>Eric Jones</td>\n",
       "      <td>Eric Jones</td>\n",
       "      <td>...</td>\n",
       "      <td>0</td>\n",
       "      <td>76cfe839f027edd48a86112bc8e1490d848d20d0</td>\n",
       "      <td>False</td>\n",
       "      <td>37</td>\n",
       "      <td>102</td>\n",
       "      <td>added misc_util file that has a few routines u...</td>\n",
       "      <td>1</td>\n",
       "      <td>5</td>\n",
       "      <td>-1</td>\n",
       "      <td>2001-12</td>\n",
       "    </tr>\n",
       "    <tr>\n",
       "      <th>4</th>\n",
       "      <td>-1</td>\n",
       "      <td>e***@enthought.com</td>\n",
       "      <td>e***@enthought.com</td>\n",
       "      <td>Eric Jones</td>\n",
       "      <td>Eric Jones</td>\n",
       "      <td>2001-12-31 03:40:02</td>\n",
       "      <td>e***@enthought.com</td>\n",
       "      <td>e***@enthought.com</td>\n",
       "      <td>Eric Jones</td>\n",
       "      <td>Eric Jones</td>\n",
       "      <td>...</td>\n",
       "      <td>0</td>\n",
       "      <td>b1263a71669aad6b9ac5db8ce961a18c204e925f</td>\n",
       "      <td>False</td>\n",
       "      <td>1</td>\n",
       "      <td>128</td>\n",
       "      <td>fixed path issues resulting from using setup_x...</td>\n",
       "      <td>1</td>\n",
       "      <td>2</td>\n",
       "      <td>-1</td>\n",
       "      <td>2001-12</td>\n",
       "    </tr>\n",
       "    <tr>\n",
       "      <th>5</th>\n",
       "      <td>-1</td>\n",
       "      <td>e***@enthought.com</td>\n",
       "      <td>e***@enthought.com</td>\n",
       "      <td>Eric Jones</td>\n",
       "      <td>Eric Jones</td>\n",
       "      <td>2001-12-31 03:52:45</td>\n",
       "      <td>e***@enthought.com</td>\n",
       "      <td>e***@enthought.com</td>\n",
       "      <td>Eric Jones</td>\n",
       "      <td>Eric Jones</td>\n",
       "      <td>...</td>\n",
       "      <td>0</td>\n",
       "      <td>806417f9f8b3c3a2414362b0ee69684a7afe58cb</td>\n",
       "      <td>False</td>\n",
       "      <td>0</td>\n",
       "      <td>14</td>\n",
       "      <td>added package_config method to misc_util that ...</td>\n",
       "      <td>1</td>\n",
       "      <td>1</td>\n",
       "      <td>-1</td>\n",
       "      <td>2001-12</td>\n",
       "    </tr>\n",
       "    <tr>\n",
       "      <th>6</th>\n",
       "      <td>-1</td>\n",
       "      <td>e***@enthought.com</td>\n",
       "      <td>e***@enthought.com</td>\n",
       "      <td>Eric Jones</td>\n",
       "      <td>Eric Jones</td>\n",
       "      <td>2001-12-31 03:54:57</td>\n",
       "      <td>e***@enthought.com</td>\n",
       "      <td>e***@enthought.com</td>\n",
       "      <td>Eric Jones</td>\n",
       "      <td>Eric Jones</td>\n",
       "      <td>...</td>\n",
       "      <td>0</td>\n",
       "      <td>8d4cc5e1967f6b20e69158e5a2700aecc50d46e2</td>\n",
       "      <td>False</td>\n",
       "      <td>1</td>\n",
       "      <td>1</td>\n",
       "      <td>added default setting so users don't need to s...</td>\n",
       "      <td>1</td>\n",
       "      <td>1</td>\n",
       "      <td>-1</td>\n",
       "      <td>2001-12</td>\n",
       "    </tr>\n",
       "    <tr>\n",
       "      <th>7</th>\n",
       "      <td>-1</td>\n",
       "      <td>e***@enthought.com</td>\n",
       "      <td>e***@enthought.com</td>\n",
       "      <td>Eric Jones</td>\n",
       "      <td>Eric Jones</td>\n",
       "      <td>2001-12-31 04:13:38</td>\n",
       "      <td>e***@enthought.com</td>\n",
       "      <td>e***@enthought.com</td>\n",
       "      <td>Eric Jones</td>\n",
       "      <td>Eric Jones</td>\n",
       "      <td>...</td>\n",
       "      <td>0</td>\n",
       "      <td>d1d33442a918c2ec4b90dc5f777397e021cd10d1</td>\n",
       "      <td>False</td>\n",
       "      <td>6</td>\n",
       "      <td>0</td>\n",
       "      <td>removed print statements\\n</td>\n",
       "      <td>1</td>\n",
       "      <td>1</td>\n",
       "      <td>-1</td>\n",
       "      <td>2001-12</td>\n",
       "    </tr>\n",
       "  </tbody>\n",
       "</table>\n",
       "<p>8 rows × 23 columns</p>\n",
       "</div>"
      ],
      "text/plain": [
       "   age        author_email  author_email_dedup author_name author_name_dedup  \\\n",
       "0   -1  e***@enthought.com  e***@enthought.com  Eric Jones        Eric Jones   \n",
       "1   -1  e***@enthought.com  e***@enthought.com  Eric Jones        Eric Jones   \n",
       "2   -1  e***@enthought.com  e***@enthought.com  Eric Jones        Eric Jones   \n",
       "3   -1  e***@enthought.com  e***@enthought.com  Eric Jones        Eric Jones   \n",
       "4   -1  e***@enthought.com  e***@enthought.com  Eric Jones        Eric Jones   \n",
       "5   -1  e***@enthought.com  e***@enthought.com  Eric Jones        Eric Jones   \n",
       "6   -1  e***@enthought.com  e***@enthought.com  Eric Jones        Eric Jones   \n",
       "7   -1  e***@enthought.com  e***@enthought.com  Eric Jones        Eric Jones   \n",
       "\n",
       "          author_time     committer_email committer_email_dedup  \\\n",
       "0 2001-12-18 10:45:10  e***@enthought.com    e***@enthought.com   \n",
       "1 2001-12-25 01:03:41  e***@enthought.com    e***@enthought.com   \n",
       "2 2001-12-25 01:05:32  e***@enthought.com    e***@enthought.com   \n",
       "3 2001-12-25 01:06:40  e***@enthought.com    e***@enthought.com   \n",
       "4 2001-12-31 03:40:02  e***@enthought.com    e***@enthought.com   \n",
       "5 2001-12-31 03:52:45  e***@enthought.com    e***@enthought.com   \n",
       "6 2001-12-31 03:54:57  e***@enthought.com    e***@enthought.com   \n",
       "7 2001-12-31 04:13:38  e***@enthought.com    e***@enthought.com   \n",
       "\n",
       "  committer_name committer_name_dedup   ...     delay  \\\n",
       "0     Eric Jones           Eric Jones   ...         0   \n",
       "1     Eric Jones           Eric Jones   ...         0   \n",
       "2     Eric Jones           Eric Jones   ...         0   \n",
       "3     Eric Jones           Eric Jones   ...         0   \n",
       "4     Eric Jones           Eric Jones   ...         0   \n",
       "5     Eric Jones           Eric Jones   ...         0   \n",
       "6     Eric Jones           Eric Jones   ...         0   \n",
       "7     Eric Jones           Eric Jones   ...         0   \n",
       "\n",
       "                                         id  ismerge  loc_d loc_i  \\\n",
       "0  f1a2d6376c430f65550efa235209b86c1a0967e3    False      0  1337   \n",
       "1  74a4958b94e07b2e3218741fb52d32e87308d62e    False      0   303   \n",
       "2  a76efe8206df0ec315f67012236577c1e31ad258    False      1    29   \n",
       "3  76cfe839f027edd48a86112bc8e1490d848d20d0    False     37   102   \n",
       "4  b1263a71669aad6b9ac5db8ce961a18c204e925f    False      1   128   \n",
       "5  806417f9f8b3c3a2414362b0ee69684a7afe58cb    False      0    14   \n",
       "6  8d4cc5e1967f6b20e69158e5a2700aecc50d46e2    False      1     1   \n",
       "7  d1d33442a918c2ec4b90dc5f777397e021cd10d1    False      6     0   \n",
       "\n",
       "                                             message  ndiffs  nfiles squashof  \\\n",
       "0  factored out the scipy specific distutils code...       1      14       -1   \n",
       "1        split scipy_test off into its own module.\\n       1       3       -1   \n",
       "2                            added build_py module\\n       1       3       -1   \n",
       "3  added misc_util file that has a few routines u...       1       5       -1   \n",
       "4  fixed path issues resulting from using setup_x...       1       2       -1   \n",
       "5  added package_config method to misc_util that ...       1       1       -1   \n",
       "6  added default setting so users don't need to s...       1       1       -1   \n",
       "7                         removed print statements\\n       1       1       -1   \n",
       "\n",
       "     month  \n",
       "0  2001-12  \n",
       "1  2001-12  \n",
       "2  2001-12  \n",
       "3  2001-12  \n",
       "4  2001-12  \n",
       "5  2001-12  \n",
       "6  2001-12  \n",
       "7  2001-12  \n",
       "\n",
       "[8 rows x 23 columns]"
      ]
     },
     "execution_count": 63,
     "metadata": {},
     "output_type": "execute_result"
    }
   ],
   "source": [
    "numpy_df[numpy_df['month'] == \"2001-12\"]"
   ]
  },
  {
   "cell_type": "code",
   "execution_count": null,
   "metadata": {},
   "outputs": [],
   "source": [
    "# read the entire file into a python array\n",
    "with open('C:/Users/Alberto/nutrients.json', 'rb') as f:\n",
    "   data = f.readlines()\n",
    "\n",
    "# remove the trailing \"\\n\" from each line\n",
    "data = map(lambda x: x.rstrip(), data)\n",
    "\n",
    "# each element of 'data' is an individual JSON object.\n",
    "# i want to convert it into an *array* of JSON objects\n",
    "# which, in and of itself, is one large JSON object\n",
    "# basically... add square brackets to the beginning\n",
    "# and end, and have all the individual business JSON objects\n",
    "# separated by a comma\n",
    "data_json_str = \"[\" + \",\".join(data) + \"]\"\n",
    "\n",
    "# now, load it into pandas\n",
    "data_df = pd.read_json(data_json_str)"
   ]
  }
 ],
 "metadata": {
  "colab": {
   "name": "Untitled.ipynb",
   "provenance": [],
   "version": "0.3.2"
  },
  "kernelspec": {
   "display_name": "Python 3",
   "language": "python",
   "name": "python3"
  },
  "language_info": {
   "codemirror_mode": {
    "name": "ipython",
    "version": 3
   },
   "file_extension": ".py",
   "mimetype": "text/x-python",
   "name": "python",
   "nbconvert_exporter": "python",
   "pygments_lexer": "ipython3",
   "version": "3.7.0"
  }
 },
 "nbformat": 4,
 "nbformat_minor": 1
}
