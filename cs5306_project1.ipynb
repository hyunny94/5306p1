{
 "metadata": {
  "colab": {
   "name": "Untitled.ipynb",
   "provenance": [],
   "version": "0.3.2"
  },
  "kernelspec": {
   "display_name": "Python 3",
   "language": "python",
   "name": "python3"
  },
  "language_info": {
   "codemirror_mode": {
    "name": "ipython",
    "version": 3
   },
   "file_extension": ".py",
   "mimetype": "text/x-python",
   "name": "python",
   "nbconvert_exporter": "python",
   "pygments_lexer": "ipython3",
   "version": "3.7.0"
  },
  "name": ""
 },
 "nbformat": 3,
 "nbformat_minor": 0,
 "worksheets": [
  {
   "cells": [
    {
     "cell_type": "markdown",
     "metadata": {},
     "source": [
      "### 0. Importing and loading the data\n"
     ]
    },
    {
     "cell_type": "code",
     "collapsed": false,
     "input": [
      "# importing packages\n",
      "%matplotlib inline\n",
      "import json\n",
      "import matplotlib.pyplot as plt\n",
      "import pandas as pd\n",
      "import datetime\n",
      "import statistics\n",
      "import time\n",
      "from calendar import monthrange"
     ],
     "language": "python",
     "metadata": {
      "colab": {},
      "colab_type": "code",
      "id": "ZLKNbrxVz7sI"
     },
     "outputs": [],
     "prompt_number": 44
    },
    {
     "cell_type": "code",
     "collapsed": false,
     "input": [
      "# importing commit data of bitcoin, numpy, react projects on github\n",
      "with open('bitcoin_commits.json') as f:\n",
      "    bitcoin_data = json.load(f)\n",
      "with open('numpy_commits.json') as f:\n",
      "    numpy_data = json.load(f)\n",
      "with open('react_commits.json') as f:\n",
      "    react_data = json.load(f)"
     ],
     "language": "python",
     "metadata": {
      "colab": {
       "base_uri": "https://localhost:8080/",
       "height": 215
      },
      "colab_type": "code",
      "executionInfo": {
       "elapsed": 484,
       "status": "error",
       "timestamp": 1537922503561,
       "user": {
        "displayName": "Hyun Kyo Jung",
        "photoUrl": "",
        "userId": "01219288441530398451"
       },
       "user_tz": 240
      },
      "id": "vfCXXIJKz7sL",
      "outputId": "17a54803-794b-4dad-b9ee-da785a536290"
     },
     "outputs": [],
     "prompt_number": 3
    },
    {
     "cell_type": "code",
     "collapsed": false,
     "input": [
      "# creating pandas dataframe from the loaded files\n",
      "bitcoin_df = pd.DataFrame(bitcoin_data)\n",
      "numpy_df = pd.DataFrame(numpy_data)\n",
      "react_df = pd.DataFrame(react_data)"
     ],
     "language": "python",
     "metadata": {},
     "outputs": [],
     "prompt_number": 4
    },
    {
     "cell_type": "markdown",
     "metadata": {},
     "source": [
      "### 1. Preprocessing the data\n",
      "1. change the time from seconds to datetime\n",
      "2. sort the array by commit time\n",
      "3. create a field \"month\""
     ]
    },
    {
     "cell_type": "code",
     "collapsed": false,
     "input": [
      "# 1. Changing the time from seconds to the datetime \n",
      "# Run this only once (when first loading the data)\n",
      "bitcoin_df[\"committer_time\"] = [datetime.datetime.fromtimestamp(i/1000.0) for i in bitcoin_df[\"committer_time\"]]\n",
      "numpy_df[\"committer_time\"] = [datetime.datetime.fromtimestamp(i/1000.0) for i in numpy_df[\"committer_time\"]]\n",
      "react_df[\"committer_time\"] = [datetime.datetime.fromtimestamp(i/1000.0) for i in react_df[\"committer_time\"]]"
     ],
     "language": "python",
     "metadata": {},
     "outputs": [],
     "prompt_number": 5
    },
    {
     "cell_type": "code",
     "collapsed": false,
     "input": [
      "# 2. Sorting by time\n",
      "numpy_df = numpy_df.sort_values(by=['committer_time'])\n",
      "bitcoin_df = bitcoin_df.sort_values(by=['committer_time'])\n",
      "react_df = react_df.sort_values(by=['committer_time'])"
     ],
     "language": "python",
     "metadata": {},
     "outputs": [],
     "prompt_number": 6
    },
    {
     "cell_type": "code",
     "collapsed": false,
     "input": [
      "# 3. Creating the field \"month\"\n",
      "numpy_df[\"month\"]=[100*i.year+i.month for i in numpy_df[\"committer_time\"]]\n",
      "react_df[\"month\"]=[100*i.year+i.month for i in react_df[\"committer_time\"]]\n",
      "bitcoin_df[\"month\"]=[100*i.year+i.month for i in bitcoin_df[\"committer_time\"]]"
     ],
     "language": "python",
     "metadata": {},
     "outputs": [],
     "prompt_number": 7
    },
    {
     "cell_type": "heading",
     "level": 3,
     "metadata": {},
     "source": [
      "2. Preliminary information about the projects"
     ]
    },
    {
     "cell_type": "code",
     "collapsed": false,
     "input": [
      "index = ['bitcoin', 'numpy', 'react']\n",
      "column = ['number of commits', 'number of contributors', 'first date', 'last date']"
     ],
     "language": "python",
     "metadata": {},
     "outputs": [],
     "prompt_number": 8
    },
    {
     "cell_type": "code",
     "collapsed": false,
     "input": [
      "b_num_commit = bitcoin_df.shape[0]\n",
      "n_num_commit = numpy_df.shape[0]\n",
      "r_num_commit = react_df.shape[0]"
     ],
     "language": "python",
     "metadata": {},
     "outputs": [],
     "prompt_number": 9
    },
    {
     "cell_type": "code",
     "collapsed": false,
     "input": [
      "b_num_cont = len(set(bitcoin_df[\"author_name\"]))\n",
      "n_num_cont = len(set(numpy_df[\"author_name\"]))\n",
      "r_num_cont = len(set(react_df[\"author_name\"]))"
     ],
     "language": "python",
     "metadata": {},
     "outputs": [],
     "prompt_number": 10
    },
    {
     "cell_type": "code",
     "collapsed": false,
     "input": [
      "b_start = bitcoin_df['committer_time'][0]\n",
      "n_start = numpy_df['committer_time'][0]\n",
      "r_start = react_df['committer_time'][0]"
     ],
     "language": "python",
     "metadata": {},
     "outputs": [],
     "prompt_number": 11
    },
    {
     "cell_type": "code",
     "collapsed": false,
     "input": [
      "b_last_list = list(bitcoin_df['committer_time'])\n",
      "b_last_list.sort()\n",
      "n_last_list = list(numpy_df['committer_time'])\n",
      "n_last_list.sort()\n",
      "r_last_list = list(react_df['committer_time'])\n",
      "r_last_list.sort()"
     ],
     "language": "python",
     "metadata": {},
     "outputs": [],
     "prompt_number": 12
    },
    {
     "cell_type": "code",
     "collapsed": false,
     "input": [
      "projects = pd.DataFrame([[b_num_commit,b_num_cont,b_start,b_last_list[-1]],\\\n",
      "                         [n_num_commit,n_num_cont,n_start,b_last_list[-1]],\\\n",
      "                         [r_num_commit,r_num_cont,r_start,b_last_list[-1]]],index=index,columns=column)\n",
      "projects"
     ],
     "language": "python",
     "metadata": {},
     "outputs": [
      {
       "html": [
        "<div style=\"max-width:1500px;overflow:auto;\">\n",
        "<style scoped>\n",
        "    .dataframe tbody tr th:only-of-type {\n",
        "        vertical-align: middle;\n",
        "    }\n",
        "\n",
        "    .dataframe tbody tr th {\n",
        "        vertical-align: top;\n",
        "    }\n",
        "\n",
        "    .dataframe thead th {\n",
        "        text-align: right;\n",
        "    }\n",
        "</style>\n",
        "<table border=\"1\" class=\"dataframe\">\n",
        "  <thead>\n",
        "    <tr style=\"text-align: right;\">\n",
        "      <th></th>\n",
        "      <th>number of commits</th>\n",
        "      <th>number of contributors</th>\n",
        "      <th>first date</th>\n",
        "      <th>last date</th>\n",
        "    </tr>\n",
        "  </thead>\n",
        "  <tbody>\n",
        "    <tr>\n",
        "      <th>bitcoin</th>\n",
        "      <td>36302</td>\n",
        "      <td>1210</td>\n",
        "      <td>2009-08-29 23:46:39</td>\n",
        "      <td>2018-01-18 10:05:40</td>\n",
        "    </tr>\n",
        "    <tr>\n",
        "      <th>numpy</th>\n",
        "      <td>24552</td>\n",
        "      <td>937</td>\n",
        "      <td>2001-12-18 10:45:10</td>\n",
        "      <td>2018-01-18 10:05:40</td>\n",
        "    </tr>\n",
        "    <tr>\n",
        "      <th>react</th>\n",
        "      <td>24157</td>\n",
        "      <td>2138</td>\n",
        "      <td>2013-05-29 08:54:02</td>\n",
        "      <td>2018-01-18 10:05:40</td>\n",
        "    </tr>\n",
        "  </tbody>\n",
        "</table>\n",
        "</div>"
       ],
       "metadata": {},
       "output_type": "pyout",
       "prompt_number": 13,
       "text": [
        "         number of commits  number of contributors          first date  \\\n",
        "bitcoin              36302                    1210 2009-08-29 23:46:39   \n",
        "numpy                24552                     937 2001-12-18 10:45:10   \n",
        "react                24157                    2138 2013-05-29 08:54:02   \n",
        "\n",
        "                  last date  \n",
        "bitcoin 2018-01-18 10:05:40  \n",
        "numpy   2018-01-18 10:05:40  \n",
        "react   2018-01-18 10:05:40  "
       ]
      }
     ],
     "prompt_number": 13
    },
    {
     "cell_type": "markdown",
     "metadata": {},
     "source": [
      "### 3. Options for picking the dividing point\n",
      "1. largest number of new contributors\n",
      "2. largest increase in the number of contributors"
     ]
    },
    {
     "cell_type": "code",
     "collapsed": false,
     "input": [
      "def pick_div(df):\n",
      "    '''\n",
      "    return the dividing point in time between old and new contributors\n",
      "    i.e the month with the largest number of new contributors\n",
      "    '''\n",
      "    months = list(set(df['month']))\n",
      "    months.sort()\n",
      "    div_month = 0\n",
      "    largest = 0\n",
      "    old_users = set()\n",
      "    for i in months:\n",
      "        is_month_i = df[df[\"month\"]==i]\n",
      "        curr_month_users = set(is_month_i[\"committer_name_dedup\"])\n",
      "        new_users = curr_month_users - old_users\n",
      "        old_users = old_users.union(new_users)\n",
      "        if len(new_users) > largest:\n",
      "            largest = len(new_users)\n",
      "            div_month = i\n",
      "        prev_month = len(curr_month_users)\n",
      "    return div_month"
     ],
     "language": "python",
     "metadata": {},
     "outputs": [],
     "prompt_number": 14
    },
    {
     "cell_type": "code",
     "collapsed": false,
     "input": [
      "def pick_div2(df):\n",
      "    '''\n",
      "    return the dividing point in time between old and new contributors\n",
      "    i.e the month with the largest increase in the number of contributors\n",
      "    '''\n",
      "    months = list(set(df['month']))\n",
      "    months.sort()\n",
      "    prev_month = 0\n",
      "    div_month = 0\n",
      "    largest_jump = 0\n",
      "    for i in months:\n",
      "        is_month_i = df[df[\"month\"]==i]\n",
      "        diff = len(set(is_month_i[\"committer_name_dedup\"])) - prev_month\n",
      "        if diff > largest_jump:\n",
      "            largest_jump = diff\n",
      "            div_month = i\n",
      "        prev_month = len(set(is_month_i[\"committer_name_dedup\"]))\n",
      "    return div_month"
     ],
     "language": "python",
     "metadata": {},
     "outputs": [],
     "prompt_number": 15
    },
    {
     "cell_type": "code",
     "collapsed": false,
     "input": [
      "print(\"Numpy's diving point using the first method of picking the dividing point is {}\".format(pick_div(numpy_df)))\n",
      "print(\"Numpy's diving point using the second method of picking the dividing point is {}\".format(pick_div2(numpy_df)))\n",
      "print(\"React's diving point using the first method of picking the dividing point is {}\".format(pick_div(react_df)))\n",
      "print(\"React's diving point using the second of picking the dividing point is {}\".format(pick_div2(react_df)))\n",
      "print(\"Bitcoin's diving point using the first method of picking the dividing point is {}\".format(pick_div(bitcoin_df)))\n",
      "print(\"Bitcoin's diving point using the second of picking the dividing point is {}\".format(pick_div2(bitcoin_df)))"
     ],
     "language": "python",
     "metadata": {},
     "outputs": [
      {
       "output_type": "stream",
       "stream": "stdout",
       "text": [
        "Numpy's diving point using the first method of picking the dividing point is 201601\n",
        "Numpy's diving point using the second method of picking the dividing point is 201510"
       ]
      },
      {
       "output_type": "stream",
       "stream": "stdout",
       "text": [
        "\n",
        "React's diving point using the first method of picking the dividing point is 201510"
       ]
      },
      {
       "output_type": "stream",
       "stream": "stdout",
       "text": [
        "\n",
        "React's diving point using the second of picking the dividing point is 201510"
       ]
      },
      {
       "output_type": "stream",
       "stream": "stdout",
       "text": [
        "\n",
        "Bitcoin's diving point using the first method of picking the dividing point is 201403"
       ]
      },
      {
       "output_type": "stream",
       "stream": "stdout",
       "text": [
        "\n",
        "Bitcoin's diving point using the second of picking the dividing point is 201403"
       ]
      },
      {
       "output_type": "stream",
       "stream": "stdout",
       "text": [
        "\n"
       ]
      }
     ],
     "prompt_number": 16
    },
    {
     "cell_type": "markdown",
     "metadata": {},
     "source": [
      "##### Findings\n",
      "1. Looks like the two methods are returning almost identical month proving that they are good identifier of the dividing point"
     ]
    },
    {
     "cell_type": "heading",
     "level": 3,
     "metadata": {},
     "source": [
      "4. Visualizing the dividing point"
     ]
    },
    {
     "cell_type": "code",
     "collapsed": false,
     "input": [
      "def vis_div(df, title):\n",
      "    '''\n",
      "    visualize the dividing point\n",
      "    '''\n",
      "    months = set(df['month'])\n",
      "    months = list(months)\n",
      "    months.sort()\n",
      "    month_dict = {}\n",
      "    for i in months:\n",
      "        is_month_i = df[df[\"month\"]==i]\n",
      "        month_dict[i]=len(set(is_month_i[\"committer_name_dedup\"]))\n",
      "    plt.ylabel('Number of new contributors')\n",
      "    plt.xlabel('YearMonth')\n",
      "    plt.title(title)\n",
      "    plt.scatter(list(month_dict.keys()),list(month_dict.values()))\n",
      "    plt.show()"
     ],
     "language": "python",
     "metadata": {},
     "outputs": [],
     "prompt_number": 63
    },
    {
     "cell_type": "code",
     "collapsed": false,
     "input": [],
     "language": "python",
     "metadata": {},
     "outputs": [],
     "prompt_number": 63
    },
    {
     "cell_type": "code",
     "collapsed": false,
     "input": [
      "vis_div(bitcoin_df, \"Bitcoin Contributors\")\n",
      "vis_div(numpy_df, \"Numpy Contributors\")\n",
      "vis_div(react_df, \"React Contributors\")"
     ],
     "language": "python",
     "metadata": {},
     "outputs": [
      {
       "metadata": {},
       "output_type": "display_data",
       "png": "[encoded data removed]",
       "text": [
        "<Figure size 600x400 with 1 Axes>"
       ]
      },
      {
       "metadata": {},
       "output_type": "display_data",
       "png": "[encoded data removed]",
       "text": [
        "<Figure size 600x400 with 1 Axes>"
       ]
      },
      {
       "metadata": {},
       "output_type": "display_data",
       "png": "[encoded data removed]",
       "text": [
        "<Figure size 600x400 with 1 Axes>"
       ]
      }
     ],
     "prompt_number": 64
    },
    {
     "cell_type": "heading",
     "level": 3,
     "metadata": {},
     "source": [
      "5. Find the old users"
     ]
    },
    {
     "cell_type": "code",
     "collapsed": false,
     "input": [
      "def old_users(df):\n",
      "    '''\n",
      "    return the Pandas dataframe of commits done only by the old users\n",
      "    '''\n",
      "    div = pick_div(df)\n",
      "    s = set(df['author_name'])\n",
      "    old_users = []\n",
      "    for a in s:\n",
      "        a_df = df[df['author_name'] == a]\n",
      "        a_commit_time_list = list(a_df[\"committer_time\"])\n",
      "        a_commit_time_list.sort()\n",
      "        first = a_commit_time_list[0]\n",
      "        first = str(first.year) + '' + str(first.month) if first.month >= 10 else str(first.year) + '0' + str(first.month)\n",
      "        if int(first) >= div:\n",
      "            continue\n",
      "        old_users.append(a)\n",
      "    return df[df['author_name'].isin(old_users)]"
     ],
     "language": "python",
     "metadata": {},
     "outputs": [],
     "prompt_number": 19
    },
    {
     "cell_type": "code",
     "collapsed": false,
     "input": [
      "numpy_old_df = old_users(numpy_df)\n",
      "react_old_df = old_users(react_df)\n",
      "bitcoin_old_df = old_users(bitcoin_df)"
     ],
     "language": "python",
     "metadata": {},
     "outputs": [],
     "prompt_number": 20
    },
    {
     "cell_type": "code",
     "collapsed": false,
     "input": [
      "def old_after_div(df):\n",
      "    '''\n",
      "    Returns the dataframe containing the commits by the old users after the dividing point\n",
      "    '''\n",
      "    div = pick_div(df)\n",
      "    div_year = int(str(div)[:4])\n",
      "    div_month = int(str(div)[-2:])\n",
      "    div_day = monthrange(div_year, div_month)[1]\n",
      "    div = datetime.datetime(div_year, div_month, div_day)\n",
      "    old_df = old_users(df)\n",
      "    after_div_df = old_df[old_df['committer_time'] > div]\n",
      "    return after_div_df"
     ],
     "language": "python",
     "metadata": {},
     "outputs": [],
     "prompt_number": 21
    },
    {
     "cell_type": "code",
     "collapsed": false,
     "input": [
      "n_old_after_div_df = old_after_div(numpy_df)\n",
      "r_old_after_div_df = old_after_div(react_df)\n",
      "b_old_after_div_df = old_after_div(bitcoin_df)"
     ],
     "language": "python",
     "metadata": {},
     "outputs": [],
     "prompt_number": 22
    },
    {
     "cell_type": "code",
     "collapsed": false,
     "input": [
      "print(\"Numpy's number of old users is {}\".format(len(set(numpy_old_df['author_name']))))\n",
      "print(\"React's number of old users is {}\".format(len(set(react_old_df['author_name']))))\n",
      "print(\"Bitcoin's number of old users is {}\".format(len(set(bitcoin_old_df['author_name']))))"
     ],
     "language": "python",
     "metadata": {},
     "outputs": [
      {
       "output_type": "stream",
       "stream": "stdout",
       "text": [
        "Numpy's number of old users is 597\n",
        "React's number of old users is 826\n",
        "Bitcoin's number of old users is 352\n"
       ]
      }
     ],
     "prompt_number": 23
    },
    {
     "cell_type": "code",
     "collapsed": false,
     "input": [
      "print(\"Numpy's number of old users contributing after the dividing point is {}\".format(len(set(n_old_after_div_df['author_name']))))\n",
      "print(\"React's number of old users contributing after the dividing point is {}\".format(len(set(r_old_after_div_df['author_name']))))\n",
      "print(\"Bitcoin's number of old users contributing after the dividing point is {}\".format(len(set(b_old_after_div_df['author_name']))))"
     ],
     "language": "python",
     "metadata": {},
     "outputs": [
      {
       "output_type": "stream",
       "stream": "stdout",
       "text": [
        "Numpy's number of old users contributing after the dividing point is 128\n",
        "React's number of old users contributing after the dividing point is 94\n",
        "Bitcoin's number of old users contributing after the dividing point is 61\n"
       ]
      }
     ],
     "prompt_number": 25
    },
    {
     "cell_type": "markdown",
     "metadata": {},
     "source": [
      "##### Findings\n",
      "1. Seems like most old contributors leave the project before the project becomes popular! \n"
     ]
    },
    {
     "cell_type": "heading",
     "level": 3,
     "metadata": {},
     "source": [
      "6. How long do the older users stick around?"
     ]
    },
    {
     "cell_type": "code",
     "collapsed": false,
     "input": [
      "def stick_around(df):\n",
      "    '''\n",
      "    return 1. the median start date of the old user \n",
      "           2. the median last date of the old user\n",
      "           #3. the median length of time the old user stuck around after the div\n",
      "    in 3-tuple form (1, 2, 3)\n",
      "    '''\n",
      "    div = pick_div(df)\n",
      "    s = set(df['author_name'])\n",
      "    n_div = pick_div(df)\n",
      "    firsts = []\n",
      "    lasts = []\n",
      "    for a in s:\n",
      "        a_df = df[df['author_name'] == a]\n",
      "        a_commit_time_list = list(a_df[\"committer_time\"])\n",
      "        a_commit_time_list.sort()\n",
      "        first = a_commit_time_list[0]\n",
      "        first_div_format = str(first.year) + '' + str(first.month) if first.month >= 10 else str(first.year) + '0' + str(first.month)\n",
      "        if int(first_div_format) >= n_div:\n",
      "            continue\n",
      "        last  = a_commit_time_list[-1]\n",
      "        first_int = int(time.mktime(first.timetuple()))\n",
      "        last_int = int(time.mktime(last.timetuple()))\n",
      "        firsts.append(first_int)\n",
      "        lasts.append(last_int)\n",
      "    first_med = statistics.median(firsts)\n",
      "    last_med = statistics.median(lasts)\n",
      "#    after_div = statistics.median(firsts)\n",
      "    return (datetime.datetime.fromtimestamp(first_med), datetime.datetime.fromtimestamp(last_med))\n"
     ],
     "language": "python",
     "metadata": {},
     "outputs": [],
     "prompt_number": 27
    },
    {
     "cell_type": "code",
     "collapsed": false,
     "input": [
      "r_median_time = stick_around(react_df)\n",
      "n_median_time = stick_around(numpy_df)\n",
      "b_median_time = stick_around(bitcoin_df)\n",
      "\n",
      "print(\"The median time React contributors stuck around is between %s and %s\" % r_median_time)\n",
      "print(\"The median time Numpy contributors stuck around is between %s and %s\" % n_median_time)\n",
      "print(\"The median time Bitcoin contributors stuck around is between %s and %s\" % b_median_time)"
     ],
     "language": "python",
     "metadata": {},
     "outputs": [
      {
       "output_type": "stream",
       "stream": "stdout",
       "text": [
        "The median time React contributors stuck around is between 2014-11-30 22:17:50.500000 and 2015-02-07 10:38:01\n",
        "The median time Numpy contributors stuck around is between 2014-01-05 11:25:25 and 2014-07-23 15:03:14\n",
        "The median time Bitcoin contributors stuck around is between 2012-10-24 03:04:41.500000 and 2013-03-28 15:51:47\n"
       ]
      }
     ],
     "prompt_number": 42
    },
    {
     "cell_type": "markdown",
     "metadata": {},
     "source": []
    },
    {
     "cell_type": "code",
     "collapsed": false,
     "input": [],
     "language": "python",
     "metadata": {},
     "outputs": [],
     "prompt_number": null
    },
    {
     "cell_type": "code",
     "collapsed": false,
     "input": [],
     "language": "python",
     "metadata": {},
     "outputs": [],
     "prompt_number": null
    },
    {
     "cell_type": "code",
     "collapsed": false,
     "input": [],
     "language": "python",
     "metadata": {},
     "outputs": [],
     "prompt_number": null
    },
    {
     "cell_type": "code",
     "collapsed": false,
     "input": [],
     "language": "python",
     "metadata": {},
     "outputs": [],
     "prompt_number": null
    },
    {
     "cell_type": "code",
     "collapsed": false,
     "input": [],
     "language": "python",
     "metadata": {},
     "outputs": [],
     "prompt_number": null
    },
    {
     "cell_type": "code",
     "collapsed": false,
     "input": [],
     "language": "python",
     "metadata": {},
     "outputs": [],
     "prompt_number": null
    },
    {
     "cell_type": "code",
     "collapsed": false,
     "input": [],
     "language": "python",
     "metadata": {},
     "outputs": [],
     "prompt_number": null
    },
    {
     "cell_type": "code",
     "collapsed": false,
     "input": [
      "x, y = zip(*lists) # unpack a list of pairs into two tuples\n",
      "\n",
      "plt.plot(x, y)\n",
      "plt.show()"
     ],
     "language": "python",
     "metadata": {},
     "outputs": [
      {
       "ename": "NameError",
       "evalue": "name 'lists' is not defined",
       "output_type": "pyerr",
       "traceback": [
        "\u001b[0;31m---------------------------------------------------------------------------\u001b[0m\n\u001b[0;31mNameError\u001b[0m                                 Traceback (most recent call last)",
        "\u001b[0;32m<ipython-input-33-035547b9f8b1>\u001b[0m in \u001b[0;36m<module>\u001b[0;34m()\u001b[0m\n\u001b[0;32m----> 1\u001b[0;31m \u001b[0mx\u001b[0m\u001b[0;34m,\u001b[0m \u001b[0my\u001b[0m \u001b[0;34m=\u001b[0m \u001b[0mzip\u001b[0m\u001b[0;34m(\u001b[0m\u001b[0;34m*\u001b[0m\u001b[0mlists\u001b[0m\u001b[0;34m)\u001b[0m \u001b[0;31m# unpack a list of pairs into two tuples\u001b[0m\u001b[0;34m\u001b[0m\u001b[0m\n\u001b[0m\u001b[1;32m      2\u001b[0m \u001b[0;34m\u001b[0m\u001b[0m\n\u001b[1;32m      3\u001b[0m \u001b[0mplt\u001b[0m\u001b[0;34m.\u001b[0m\u001b[0mplot\u001b[0m\u001b[0;34m(\u001b[0m\u001b[0mx\u001b[0m\u001b[0;34m,\u001b[0m \u001b[0my\u001b[0m\u001b[0;34m)\u001b[0m\u001b[0;34m\u001b[0m\u001b[0m\n\u001b[1;32m      4\u001b[0m \u001b[0mplt\u001b[0m\u001b[0;34m.\u001b[0m\u001b[0mshow\u001b[0m\u001b[0;34m(\u001b[0m\u001b[0;34m)\u001b[0m\u001b[0;34m\u001b[0m\u001b[0m\n",
        "\u001b[0;31mNameError\u001b[0m: name 'lists' is not defined"
       ]
      }
     ],
     "prompt_number": 33
    },
    {
     "cell_type": "code",
     "collapsed": false,
     "input": [
      "import collections"
     ],
     "language": "python",
     "metadata": {},
     "outputs": [],
     "prompt_number": 70
    },
    {
     "cell_type": "code",
     "collapsed": false,
     "input": [
      "collections.OrderedDict"
     ],
     "language": "python",
     "metadata": {},
     "outputs": [
      {
       "metadata": {},
       "output_type": "pyout",
       "prompt_number": 71,
       "text": [
        "collections.OrderedDict"
       ]
      }
     ],
     "prompt_number": 71
    },
    {
     "cell_type": "code",
     "collapsed": false,
     "input": [],
     "language": "python",
     "metadata": {},
     "outputs": [],
     "prompt_number": null
    },
    {
     "cell_type": "code",
     "collapsed": false,
     "input": [
      "numpy_df[numpy_df['month'] == \"2001-12\"]"
     ],
     "language": "python",
     "metadata": {},
     "outputs": [
      {
       "html": [
        "<div>\n",
        "<style scoped>\n",
        "    .dataframe tbody tr th:only-of-type {\n",
        "        vertical-align: middle;\n",
        "    }\n",
        "\n",
        "    .dataframe tbody tr th {\n",
        "        vertical-align: top;\n",
        "    }\n",
        "\n",
        "    .dataframe thead th {\n",
        "        text-align: right;\n",
        "    }\n",
        "</style>\n",
        "<table border=\"1\" class=\"dataframe\">\n",
        "  <thead>\n",
        "    <tr style=\"text-align: right;\">\n",
        "      <th></th>\n",
        "      <th>age</th>\n",
        "      <th>author_email</th>\n",
        "      <th>author_email_dedup</th>\n",
        "      <th>author_name</th>\n",
        "      <th>author_name_dedup</th>\n",
        "      <th>author_time</th>\n",
        "      <th>committer_email</th>\n",
        "      <th>committer_email_dedup</th>\n",
        "      <th>committer_name</th>\n",
        "      <th>committer_name_dedup</th>\n",
        "      <th>...</th>\n",
        "      <th>delay</th>\n",
        "      <th>id</th>\n",
        "      <th>ismerge</th>\n",
        "      <th>loc_d</th>\n",
        "      <th>loc_i</th>\n",
        "      <th>message</th>\n",
        "      <th>ndiffs</th>\n",
        "      <th>nfiles</th>\n",
        "      <th>squashof</th>\n",
        "      <th>month</th>\n",
        "    </tr>\n",
        "  </thead>\n",
        "  <tbody>\n",
        "    <tr>\n",
        "      <th>0</th>\n",
        "      <td>-1</td>\n",
        "      <td>e***@enthought.com</td>\n",
        "      <td>e***@enthought.com</td>\n",
        "      <td>Eric Jones</td>\n",
        "      <td>Eric Jones</td>\n",
        "      <td>2001-12-18 10:45:10</td>\n",
        "      <td>e***@enthought.com</td>\n",
        "      <td>e***@enthought.com</td>\n",
        "      <td>Eric Jones</td>\n",
        "      <td>Eric Jones</td>\n",
        "      <td>...</td>\n",
        "      <td>0</td>\n",
        "      <td>f1a2d6376c430f65550efa235209b86c1a0967e3</td>\n",
        "      <td>False</td>\n",
        "      <td>0</td>\n",
        "      <td>1337</td>\n",
        "      <td>factored out the scipy specific distutils code...</td>\n",
        "      <td>1</td>\n",
        "      <td>14</td>\n",
        "      <td>-1</td>\n",
        "      <td>2001-12</td>\n",
        "    </tr>\n",
        "    <tr>\n",
        "      <th>1</th>\n",
        "      <td>-1</td>\n",
        "      <td>e***@enthought.com</td>\n",
        "      <td>e***@enthought.com</td>\n",
        "      <td>Eric Jones</td>\n",
        "      <td>Eric Jones</td>\n",
        "      <td>2001-12-25 01:03:41</td>\n",
        "      <td>e***@enthought.com</td>\n",
        "      <td>e***@enthought.com</td>\n",
        "      <td>Eric Jones</td>\n",
        "      <td>Eric Jones</td>\n",
        "      <td>...</td>\n",
        "      <td>0</td>\n",
        "      <td>74a4958b94e07b2e3218741fb52d32e87308d62e</td>\n",
        "      <td>False</td>\n",
        "      <td>0</td>\n",
        "      <td>303</td>\n",
        "      <td>split scipy_test off into its own module.\\n</td>\n",
        "      <td>1</td>\n",
        "      <td>3</td>\n",
        "      <td>-1</td>\n",
        "      <td>2001-12</td>\n",
        "    </tr>\n",
        "    <tr>\n",
        "      <th>2</th>\n",
        "      <td>-1</td>\n",
        "      <td>e***@enthought.com</td>\n",
        "      <td>e***@enthought.com</td>\n",
        "      <td>Eric Jones</td>\n",
        "      <td>Eric Jones</td>\n",
        "      <td>2001-12-25 01:05:32</td>\n",
        "      <td>e***@enthought.com</td>\n",
        "      <td>e***@enthought.com</td>\n",
        "      <td>Eric Jones</td>\n",
        "      <td>Eric Jones</td>\n",
        "      <td>...</td>\n",
        "      <td>0</td>\n",
        "      <td>a76efe8206df0ec315f67012236577c1e31ad258</td>\n",
        "      <td>False</td>\n",
        "      <td>1</td>\n",
        "      <td>29</td>\n",
        "      <td>added build_py module\\n</td>\n",
        "      <td>1</td>\n",
        "      <td>3</td>\n",
        "      <td>-1</td>\n",
        "      <td>2001-12</td>\n",
        "    </tr>\n",
        "    <tr>\n",
        "      <th>3</th>\n",
        "      <td>-1</td>\n",
        "      <td>e***@enthought.com</td>\n",
        "      <td>e***@enthought.com</td>\n",
        "      <td>Eric Jones</td>\n",
        "      <td>Eric Jones</td>\n",
        "      <td>2001-12-25 01:06:40</td>\n",
        "      <td>e***@enthought.com</td>\n",
        "      <td>e***@enthought.com</td>\n",
        "      <td>Eric Jones</td>\n",
        "      <td>Eric Jones</td>\n",
        "      <td>...</td>\n",
        "      <td>0</td>\n",
        "      <td>76cfe839f027edd48a86112bc8e1490d848d20d0</td>\n",
        "      <td>False</td>\n",
        "      <td>37</td>\n",
        "      <td>102</td>\n",
        "      <td>added misc_util file that has a few routines u...</td>\n",
        "      <td>1</td>\n",
        "      <td>5</td>\n",
        "      <td>-1</td>\n",
        "      <td>2001-12</td>\n",
        "    </tr>\n",
        "    <tr>\n",
        "      <th>4</th>\n",
        "      <td>-1</td>\n",
        "      <td>e***@enthought.com</td>\n",
        "      <td>e***@enthought.com</td>\n",
        "      <td>Eric Jones</td>\n",
        "      <td>Eric Jones</td>\n",
        "      <td>2001-12-31 03:40:02</td>\n",
        "      <td>e***@enthought.com</td>\n",
        "      <td>e***@enthought.com</td>\n",
        "      <td>Eric Jones</td>\n",
        "      <td>Eric Jones</td>\n",
        "      <td>...</td>\n",
        "      <td>0</td>\n",
        "      <td>b1263a71669aad6b9ac5db8ce961a18c204e925f</td>\n",
        "      <td>False</td>\n",
        "      <td>1</td>\n",
        "      <td>128</td>\n",
        "      <td>fixed path issues resulting from using setup_x...</td>\n",
        "      <td>1</td>\n",
        "      <td>2</td>\n",
        "      <td>-1</td>\n",
        "      <td>2001-12</td>\n",
        "    </tr>\n",
        "    <tr>\n",
        "      <th>5</th>\n",
        "      <td>-1</td>\n",
        "      <td>e***@enthought.com</td>\n",
        "      <td>e***@enthought.com</td>\n",
        "      <td>Eric Jones</td>\n",
        "      <td>Eric Jones</td>\n",
        "      <td>2001-12-31 03:52:45</td>\n",
        "      <td>e***@enthought.com</td>\n",
        "      <td>e***@enthought.com</td>\n",
        "      <td>Eric Jones</td>\n",
        "      <td>Eric Jones</td>\n",
        "      <td>...</td>\n",
        "      <td>0</td>\n",
        "      <td>806417f9f8b3c3a2414362b0ee69684a7afe58cb</td>\n",
        "      <td>False</td>\n",
        "      <td>0</td>\n",
        "      <td>14</td>\n",
        "      <td>added package_config method to misc_util that ...</td>\n",
        "      <td>1</td>\n",
        "      <td>1</td>\n",
        "      <td>-1</td>\n",
        "      <td>2001-12</td>\n",
        "    </tr>\n",
        "    <tr>\n",
        "      <th>6</th>\n",
        "      <td>-1</td>\n",
        "      <td>e***@enthought.com</td>\n",
        "      <td>e***@enthought.com</td>\n",
        "      <td>Eric Jones</td>\n",
        "      <td>Eric Jones</td>\n",
        "      <td>2001-12-31 03:54:57</td>\n",
        "      <td>e***@enthought.com</td>\n",
        "      <td>e***@enthought.com</td>\n",
        "      <td>Eric Jones</td>\n",
        "      <td>Eric Jones</td>\n",
        "      <td>...</td>\n",
        "      <td>0</td>\n",
        "      <td>8d4cc5e1967f6b20e69158e5a2700aecc50d46e2</td>\n",
        "      <td>False</td>\n",
        "      <td>1</td>\n",
        "      <td>1</td>\n",
        "      <td>added default setting so users don't need to s...</td>\n",
        "      <td>1</td>\n",
        "      <td>1</td>\n",
        "      <td>-1</td>\n",
        "      <td>2001-12</td>\n",
        "    </tr>\n",
        "    <tr>\n",
        "      <th>7</th>\n",
        "      <td>-1</td>\n",
        "      <td>e***@enthought.com</td>\n",
        "      <td>e***@enthought.com</td>\n",
        "      <td>Eric Jones</td>\n",
        "      <td>Eric Jones</td>\n",
        "      <td>2001-12-31 04:13:38</td>\n",
        "      <td>e***@enthought.com</td>\n",
        "      <td>e***@enthought.com</td>\n",
        "      <td>Eric Jones</td>\n",
        "      <td>Eric Jones</td>\n",
        "      <td>...</td>\n",
        "      <td>0</td>\n",
        "      <td>d1d33442a918c2ec4b90dc5f777397e021cd10d1</td>\n",
        "      <td>False</td>\n",
        "      <td>6</td>\n",
        "      <td>0</td>\n",
        "      <td>removed print statements\\n</td>\n",
        "      <td>1</td>\n",
        "      <td>1</td>\n",
        "      <td>-1</td>\n",
        "      <td>2001-12</td>\n",
        "    </tr>\n",
        "  </tbody>\n",
        "</table>\n",
        "<p>8 rows \u00d7 23 columns</p>\n",
        "</div>"
       ],
       "metadata": {},
       "output_type": "pyout",
       "prompt_number": 63,
       "text": [
        "   age        author_email  author_email_dedup author_name author_name_dedup  \\\n",
        "0   -1  e***@enthought.com  e***@enthought.com  Eric Jones        Eric Jones   \n",
        "1   -1  e***@enthought.com  e***@enthought.com  Eric Jones        Eric Jones   \n",
        "2   -1  e***@enthought.com  e***@enthought.com  Eric Jones        Eric Jones   \n",
        "3   -1  e***@enthought.com  e***@enthought.com  Eric Jones        Eric Jones   \n",
        "4   -1  e***@enthought.com  e***@enthought.com  Eric Jones        Eric Jones   \n",
        "5   -1  e***@enthought.com  e***@enthought.com  Eric Jones        Eric Jones   \n",
        "6   -1  e***@enthought.com  e***@enthought.com  Eric Jones        Eric Jones   \n",
        "7   -1  e***@enthought.com  e***@enthought.com  Eric Jones        Eric Jones   \n",
        "\n",
        "          author_time     committer_email committer_email_dedup  \\\n",
        "0 2001-12-18 10:45:10  e***@enthought.com    e***@enthought.com   \n",
        "1 2001-12-25 01:03:41  e***@enthought.com    e***@enthought.com   \n",
        "2 2001-12-25 01:05:32  e***@enthought.com    e***@enthought.com   \n",
        "3 2001-12-25 01:06:40  e***@enthought.com    e***@enthought.com   \n",
        "4 2001-12-31 03:40:02  e***@enthought.com    e***@enthought.com   \n",
        "5 2001-12-31 03:52:45  e***@enthought.com    e***@enthought.com   \n",
        "6 2001-12-31 03:54:57  e***@enthought.com    e***@enthought.com   \n",
        "7 2001-12-31 04:13:38  e***@enthought.com    e***@enthought.com   \n",
        "\n",
        "  committer_name committer_name_dedup   ...     delay  \\\n",
        "0     Eric Jones           Eric Jones   ...         0   \n",
        "1     Eric Jones           Eric Jones   ...         0   \n",
        "2     Eric Jones           Eric Jones   ...         0   \n",
        "3     Eric Jones           Eric Jones   ...         0   \n",
        "4     Eric Jones           Eric Jones   ...         0   \n",
        "5     Eric Jones           Eric Jones   ...         0   \n",
        "6     Eric Jones           Eric Jones   ...         0   \n",
        "7     Eric Jones           Eric Jones   ...         0   \n",
        "\n",
        "                                         id  ismerge  loc_d loc_i  \\\n",
        "0  f1a2d6376c430f65550efa235209b86c1a0967e3    False      0  1337   \n",
        "1  74a4958b94e07b2e3218741fb52d32e87308d62e    False      0   303   \n",
        "2  a76efe8206df0ec315f67012236577c1e31ad258    False      1    29   \n",
        "3  76cfe839f027edd48a86112bc8e1490d848d20d0    False     37   102   \n",
        "4  b1263a71669aad6b9ac5db8ce961a18c204e925f    False      1   128   \n",
        "5  806417f9f8b3c3a2414362b0ee69684a7afe58cb    False      0    14   \n",
        "6  8d4cc5e1967f6b20e69158e5a2700aecc50d46e2    False      1     1   \n",
        "7  d1d33442a918c2ec4b90dc5f777397e021cd10d1    False      6     0   \n",
        "\n",
        "                                             message  ndiffs  nfiles squashof  \\\n",
        "0  factored out the scipy specific distutils code...       1      14       -1   \n",
        "1        split scipy_test off into its own module.\\n       1       3       -1   \n",
        "2                            added build_py module\\n       1       3       -1   \n",
        "3  added misc_util file that has a few routines u...       1       5       -1   \n",
        "4  fixed path issues resulting from using setup_x...       1       2       -1   \n",
        "5  added package_config method to misc_util that ...       1       1       -1   \n",
        "6  added default setting so users don't need to s...       1       1       -1   \n",
        "7                         removed print statements\\n       1       1       -1   \n",
        "\n",
        "     month  \n",
        "0  2001-12  \n",
        "1  2001-12  \n",
        "2  2001-12  \n",
        "3  2001-12  \n",
        "4  2001-12  \n",
        "5  2001-12  \n",
        "6  2001-12  \n",
        "7  2001-12  \n",
        "\n",
        "[8 rows x 23 columns]"
       ]
      }
     ],
     "prompt_number": 63
    },
    {
     "cell_type": "code",
     "collapsed": false,
     "input": [
      "# read the entire file into a python array\n",
      "with open('C:/Users/Alberto/nutrients.json', 'rb') as f:\n",
      "   data = f.readlines()\n",
      "\n",
      "# remove the trailing \"\\n\" from each line\n",
      "data = map(lambda x: x.rstrip(), data)\n",
      "\n",
      "# each element of 'data' is an individual JSON object.\n",
      "# i want to convert it into an *array* of JSON objects\n",
      "# which, in and of itself, is one large JSON object\n",
      "# basically... add square brackets to the beginning\n",
      "# and end, and have all the individual business JSON objects\n",
      "# separated by a comma\n",
      "data_json_str = \"[\" + \",\".join(data) + \"]\"\n",
      "\n",
      "# now, load it into pandas\n",
      "data_df = pd.read_json(data_json_str)"
     ],
     "language": "python",
     "metadata": {},
     "outputs": [],
     "prompt_number": null
    }
   ],
   "metadata": {}
  }
 ]
}