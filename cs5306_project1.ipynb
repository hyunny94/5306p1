{
 "metadata": {
  "colab": {
   "name": "Untitled.ipynb",
   "provenance": [],
   "version": "0.3.2"
  },
  "kernelspec": {
   "display_name": "Python 3",
   "language": "python",
   "name": "python3"
  },
  "language_info": {
   "codemirror_mode": {
    "name": "ipython",
    "version": 3
   },
   "file_extension": ".py",
   "mimetype": "text/x-python",
   "name": "python",
   "nbconvert_exporter": "python",
   "pygments_lexer": "ipython3",
   "version": "3.7.0"
  },
  "name": "",
  "signature": "sha256:f61bebcc24957655dc9e6ae6629447060af4619c5449288d8773086c63a69045"
 },
 "nbformat": 3,
 "nbformat_minor": 0,
 "worksheets": [
  {
   "cells": [
    {
     "cell_type": "markdown",
     "metadata": {},
     "source": [
      "### 0. Importing and loading the data\n"
     ]
    },
    {
     "cell_type": "code",
     "collapsed": false,
     "input": [
      "# importing packages\n",
      "%matplotlib inline\n",
      "import json\n",
      "import matplotlib.pyplot as plt\n",
      "import matplotlib.dates as mdates\n",
      "import pandas as pd\n",
      "import datetime\n",
      "import statistics\n",
      "import time\n",
      "from calendar import monthrange"
     ],
     "language": "python",
     "metadata": {
      "colab": {},
      "colab_type": "code",
      "id": "ZLKNbrxVz7sI"
     },
     "outputs": [],
     "prompt_number": 132
    },
    {
     "cell_type": "code",
     "collapsed": false,
     "input": [
      "# importing commit data of bitcoin, numpy, react projects on github\n",
      "with open('bitcoin_commits.json') as f:\n",
      "    bitcoin_data = json.load(f)\n",
      "with open('numpy_commits.json') as f:\n",
      "    numpy_data = json.load(f)\n",
      "with open('react_commits.json') as f:\n",
      "    react_data = json.load(f)"
     ],
     "language": "python",
     "metadata": {
      "colab": {
       "base_uri": "https://localhost:8080/",
       "height": 215
      },
      "colab_type": "code",
      "executionInfo": {
       "elapsed": 484,
       "status": "error",
       "timestamp": 1537922503561,
       "user": {
        "displayName": "Hyun Kyo Jung",
        "photoUrl": "",
        "userId": "01219288441530398451"
       },
       "user_tz": 240
      },
      "id": "vfCXXIJKz7sL",
      "outputId": "17a54803-794b-4dad-b9ee-da785a536290"
     },
     "outputs": [],
     "prompt_number": 99
    },
    {
     "cell_type": "code",
     "collapsed": false,
     "input": [
      "# creating pandas dataframe from the loaded files\n",
      "b_df = pd.DataFrame(bitcoin_data)\n",
      "n_df = pd.DataFrame(numpy_data)\n",
      "r_df = pd.DataFrame(react_data)"
     ],
     "language": "python",
     "metadata": {},
     "outputs": [],
     "prompt_number": 100
    },
    {
     "cell_type": "markdown",
     "metadata": {},
     "source": [
      "### 1. Preprocessing the data\n",
      "1. change the time from seconds to datetime\n",
      "2. sort the array by commit time\n",
      "3. create a field \"month\""
     ]
    },
    {
     "cell_type": "code",
     "collapsed": false,
     "input": [
      "# 1. Changing the time from seconds to the datetime \n",
      "# Run this only once (when first loading the data)\n",
      "b_df[\"committer_time\"] = [datetime.datetime.fromtimestamp(i/1000.0) for i in b_df[\"committer_time\"]]\n",
      "n_df[\"committer_time\"] = [datetime.datetime.fromtimestamp(i/1000.0) for i in n_df[\"committer_time\"]]\n",
      "r_df[\"committer_time\"] = [datetime.datetime.fromtimestamp(i/1000.0) for i in r_df[\"committer_time\"]]"
     ],
     "language": "python",
     "metadata": {},
     "outputs": [],
     "prompt_number": 101
    },
    {
     "cell_type": "code",
     "collapsed": false,
     "input": [
      "# 2. Sorting by time\n",
      "n_df = n_df.sort_values(by=['committer_time'])\n",
      "b_df = b_df.sort_values(by=['committer_time'])\n",
      "r_df = r_df.sort_values(by=['committer_time'])"
     ],
     "language": "python",
     "metadata": {},
     "outputs": [],
     "prompt_number": 102
    },
    {
     "cell_type": "code",
     "collapsed": false,
     "input": [
      "# 3. Creating the field \"month\"\n",
      "# n_df[\"month\"]=[100*i.year+i.month for i in n_df[\"committer_time\"]]\n",
      "# r_df[\"month\"]=[100*i.year+i.month for i in r_df[\"committer_time\"]]\n",
      "# b_df[\"month\"]=[100*i.year+i.month for i in b_df[\"committer_time\"]]\n",
      "\n",
      "n_df[\"month\"] = [datetime.datetime(i.year, i.month, 1) for i in n_df[\"committer_time\"]]\n",
      "r_df[\"month\"] = [datetime.datetime(i.year, i.month, 1) for i in r_df[\"committer_time\"]]\n",
      "b_df[\"month\"] = [datetime.datetime(i.year, i.month, 1) for i in b_df[\"committer_time\"]]"
     ],
     "language": "python",
     "metadata": {},
     "outputs": [],
     "prompt_number": 134
    },
    {
     "cell_type": "heading",
     "level": 3,
     "metadata": {},
     "source": [
      "2. Preliminary information about the projects"
     ]
    },
    {
     "cell_type": "code",
     "collapsed": false,
     "input": [
      "index = ['bitcoin', 'numpy', 'react']\n",
      "column = ['number of commits', 'number of contributors', 'first date', 'last date']"
     ],
     "language": "python",
     "metadata": {},
     "outputs": [],
     "prompt_number": 145
    },
    {
     "cell_type": "code",
     "collapsed": false,
     "input": [
      "b_num_commit = b_df.shape[0]\n",
      "n_num_commit = n_df.shape[0]\n",
      "r_num_commit = r_df.shape[0]"
     ],
     "language": "python",
     "metadata": {},
     "outputs": [],
     "prompt_number": 146
    },
    {
     "cell_type": "code",
     "collapsed": false,
     "input": [
      "b_num_cont = len(set(b_df[\"author_name\"]))\n",
      "n_num_cont = len(set(n_df[\"author_name\"]))\n",
      "r_num_cont = len(set(r_df[\"author_name\"]))"
     ],
     "language": "python",
     "metadata": {},
     "outputs": [],
     "prompt_number": 147
    },
    {
     "cell_type": "code",
     "collapsed": false,
     "input": [
      "b_start = b_df['committer_time'][0]\n",
      "n_start = n_df['committer_time'][0]\n",
      "r_start = r_df['committer_time'][0]"
     ],
     "language": "python",
     "metadata": {},
     "outputs": [],
     "prompt_number": 148
    },
    {
     "cell_type": "code",
     "collapsed": false,
     "input": [
      "b_last_list = list(b_df['committer_time'])\n",
      "b_last_list.sort()\n",
      "n_last_list = list(n_df['committer_time'])\n",
      "n_last_list.sort()\n",
      "r_last_list = list(r_df['committer_time'])\n",
      "r_last_list.sort()"
     ],
     "language": "python",
     "metadata": {},
     "outputs": [],
     "prompt_number": 149
    },
    {
     "cell_type": "code",
     "collapsed": false,
     "input": [
      "projects = pd.DataFrame([[b_num_commit,b_num_cont,b_start,b_last_list[-1]],\\\n",
      "                         [n_num_commit,n_num_cont,n_start,b_last_list[-1]],\\\n",
      "                         [r_num_commit,r_num_cont,r_start,b_last_list[-1]]],index=index,columns=column)\n",
      "projects"
     ],
     "language": "python",
     "metadata": {},
     "outputs": [
      {
       "html": [
        "<div style=\"max-width:1500px;overflow:auto;\">\n",
        "<style scoped>\n",
        "    .dataframe tbody tr th:only-of-type {\n",
        "        vertical-align: middle;\n",
        "    }\n",
        "\n",
        "    .dataframe tbody tr th {\n",
        "        vertical-align: top;\n",
        "    }\n",
        "\n",
        "    .dataframe thead th {\n",
        "        text-align: right;\n",
        "    }\n",
        "</style>\n",
        "<table border=\"1\" class=\"dataframe\">\n",
        "  <thead>\n",
        "    <tr style=\"text-align: right;\">\n",
        "      <th></th>\n",
        "      <th>number of commits</th>\n",
        "      <th>number of contributors</th>\n",
        "      <th>first date</th>\n",
        "      <th>last date</th>\n",
        "    </tr>\n",
        "  </thead>\n",
        "  <tbody>\n",
        "    <tr>\n",
        "      <th>bitcoin</th>\n",
        "      <td>36302</td>\n",
        "      <td>1210</td>\n",
        "      <td>2009-08-29 23:46:39</td>\n",
        "      <td>2018-01-18 10:05:40</td>\n",
        "    </tr>\n",
        "    <tr>\n",
        "      <th>numpy</th>\n",
        "      <td>24552</td>\n",
        "      <td>937</td>\n",
        "      <td>2001-12-18 10:45:10</td>\n",
        "      <td>2018-01-18 10:05:40</td>\n",
        "    </tr>\n",
        "    <tr>\n",
        "      <th>react</th>\n",
        "      <td>24157</td>\n",
        "      <td>2138</td>\n",
        "      <td>2013-05-29 08:54:02</td>\n",
        "      <td>2018-01-18 10:05:40</td>\n",
        "    </tr>\n",
        "  </tbody>\n",
        "</table>\n",
        "</div>"
       ],
       "metadata": {},
       "output_type": "pyout",
       "prompt_number": 150,
       "text": [
        "         number of commits  number of contributors          first date  \\\n",
        "bitcoin              36302                    1210 2009-08-29 23:46:39   \n",
        "numpy                24552                     937 2001-12-18 10:45:10   \n",
        "react                24157                    2138 2013-05-29 08:54:02   \n",
        "\n",
        "                  last date  \n",
        "bitcoin 2018-01-18 10:05:40  \n",
        "numpy   2018-01-18 10:05:40  \n",
        "react   2018-01-18 10:05:40  "
       ]
      }
     ],
     "prompt_number": 150
    },
    {
     "cell_type": "markdown",
     "metadata": {},
     "source": [
      "### 3. Options for picking the dividing point\n",
      "1. largest number of new contributors\n",
      "2. largest increase in the number of contributors"
     ]
    },
    {
     "cell_type": "code",
     "collapsed": false,
     "input": [
      "def pick_div(df):\n",
      "    '''\n",
      "    return the dividing point in time between old and new contributors\n",
      "    i.e the month with the largest number of new contributors\n",
      "    '''\n",
      "    months = list(set(df['month']))\n",
      "    months.sort()\n",
      "    div_month = 0\n",
      "    largest = 0\n",
      "    old_users = set()\n",
      "    for i in months:\n",
      "        is_month_i = df[df[\"month\"]==i]\n",
      "        curr_month_users = set(is_month_i[\"committer_name_dedup\"])\n",
      "        new_users = curr_month_users - old_users\n",
      "        old_users = old_users.union(new_users)\n",
      "        if len(new_users) > largest:\n",
      "            largest = len(new_users)\n",
      "            div_month = i\n",
      "        prev_month = len(curr_month_users)\n",
      "    return div_month"
     ],
     "language": "python",
     "metadata": {},
     "outputs": [],
     "prompt_number": 201
    },
    {
     "cell_type": "code",
     "collapsed": false,
     "input": [
      "def pick_div2(df):\n",
      "    '''\n",
      "    return the dividing point in time between old and new contributors\n",
      "    i.e the month with the largest increase in the number of contributors\n",
      "    '''\n",
      "    months = list(set(df['month']))\n",
      "    months.sort()\n",
      "    prev_month = 0\n",
      "    div_month = 0\n",
      "    largest_jump = 0\n",
      "    for i in months:\n",
      "        is_month_i = df[df[\"month\"]==i]\n",
      "        diff = len(set(is_month_i[\"committer_name_dedup\"])) - prev_month\n",
      "        if diff > largest_jump:\n",
      "            largest_jump = diff\n",
      "            div_month = i\n",
      "        prev_month = len(set(is_month_i[\"committer_name_dedup\"]))\n",
      "    return div_month"
     ],
     "language": "python",
     "metadata": {},
     "outputs": [],
     "prompt_number": 202
    },
    {
     "cell_type": "code",
     "collapsed": false,
     "input": [
      "print(\"Numpy's diving point using the first method of picking the dividing point is {}\".format(pick_div(n_df)))\n",
      "print(\"Numpy's diving point using the second method of picking the dividing point is {}\".format(pick_div2(n_df)))\n",
      "print(\"React's diving point using the first method of picking the dividing point is {}\".format(pick_div(r_df)))\n",
      "print(\"React's diving point using the second of picking the dividing point is {}\".format(pick_div2(r_df)))\n",
      "print(\"Bitcoin's diving point using the first method of picking the dividing point is {}\".format(pick_div(b_df)))\n",
      "print(\"Bitcoin's diving point using the second of picking the dividing point is {}\".format(pick_div2(b_df)))"
     ],
     "language": "python",
     "metadata": {},
     "outputs": [
      {
       "output_type": "stream",
       "stream": "stdout",
       "text": [
        "Numpy's diving point using the first method of picking the dividing point is 2016-01-01 00:00:00\n",
        "Numpy's diving point using the second method of picking the dividing point is 2015-10-01 00:00:00"
       ]
      },
      {
       "output_type": "stream",
       "stream": "stdout",
       "text": [
        "\n",
        "React's diving point using the first method of picking the dividing point is 2015-10-01 00:00:00"
       ]
      },
      {
       "output_type": "stream",
       "stream": "stdout",
       "text": [
        "\n",
        "React's diving point using the second of picking the dividing point is 2015-10-01 00:00:00"
       ]
      },
      {
       "output_type": "stream",
       "stream": "stdout",
       "text": [
        "\n",
        "Bitcoin's diving point using the first method of picking the dividing point is 2014-03-01 00:00:00"
       ]
      },
      {
       "output_type": "stream",
       "stream": "stdout",
       "text": [
        "\n",
        "Bitcoin's diving point using the second of picking the dividing point is 2014-03-01 00:00:00"
       ]
      },
      {
       "output_type": "stream",
       "stream": "stdout",
       "text": [
        "\n"
       ]
      }
     ],
     "prompt_number": 203
    },
    {
     "cell_type": "markdown",
     "metadata": {},
     "source": [
      "##### Findings\n",
      "1. Looks like the two methods are returning almost identical month proving that they are good identifier of the dividing point"
     ]
    },
    {
     "cell_type": "heading",
     "level": 3,
     "metadata": {},
     "source": [
      "4. Visualizing the dividing point"
     ]
    },
    {
     "cell_type": "code",
     "collapsed": false,
     "input": [],
     "language": "python",
     "metadata": {},
     "outputs": [],
     "prompt_number": 157
    },
    {
     "cell_type": "code",
     "collapsed": false,
     "input": [
      "def vis_div(df, title):\n",
      "    '''\n",
      "    visualize the dividing point\n",
      "    '''\n",
      "    div_month = pick_div2(df)\n",
      "    months = set(df['month'])\n",
      "    months = list(months)\n",
      "    months.sort()\n",
      "    month_dict = {}\n",
      "    div_size = 0\n",
      "    for i in months:\n",
      "        is_month_i = df[df[\"month\"]==i]\n",
      "        if i != div_month:\n",
      "            month_dict[i]=len(set(is_month_i[\"committer_name_dedup\"]))\n",
      "        else:\n",
      "            div_size = len(set(is_month_i[\"committer_name_dedup\"]))\n",
      "    plt.ylabel('Number of contributors')\n",
      "    plt.xlabel('Month')\n",
      "    plt.title(title)\n",
      "    plt.scatter(list(month_dict.keys()),list(month_dict.values()))\n",
      "    plt.scatter(div_month, div_size)\n",
      "    plt.show()"
     ],
     "language": "python",
     "metadata": {},
     "outputs": [],
     "prompt_number": 232
    },
    {
     "cell_type": "code",
     "collapsed": false,
     "input": [
      "vis_div(b_df, \"Bitcoin Contributors\")\n",
      "vis_div(n_df, \"Numpy Contributors\")\n",
      "vis_div(r_df, \"React Contributors\")"
     ],
     "language": "python",
     "metadata": {},
     "outputs": [
      {
       "metadata": {},
       "output_type": "display_data",
       "png": "[encoded data removed]",
       "text": [
        "<Figure size 600x400 with 1 Axes>"
       ]
      },
      {
       "metadata": {},
       "output_type": "display_data",
       "png": "[encoded data removed]",
       "text": [
        "<Figure size 600x400 with 1 Axes>"
       ]
      },
      {
       "metadata": {},
       "output_type": "display_data",
       "png": "[encoded data removed]",
       "text": [
        "<Figure size 600x400 with 1 Axes>"
       ]
      }
     ],
     "prompt_number": 233
    },
    {
     "cell_type": "heading",
     "level": 3,
     "metadata": {},
     "source": [
      "5. Find the old users"
     ]
    },
    {
     "cell_type": "code",
     "collapsed": false,
     "input": [
      "def old_users(df):\n",
      "    '''\n",
      "    return the Pandas dataframe of commits done only by the old users\n",
      "    '''\n",
      "    div = pick_div(df)\n",
      "    s = set(df['author_name'])\n",
      "    old_users = []\n",
      "    for a in s:\n",
      "        a_df = df[df['author_name'] == a]\n",
      "        a_commit_time_list = list(a_df[\"committer_time\"])\n",
      "        a_commit_time_list.sort()\n",
      "        first = a_commit_time_list[0]\n",
      "        #first = str(first.year) + '' + str(first.month) if first.month >= 10 else str(first.year) + '0' + str(first.month)\n",
      "        if first > div:\n",
      "            continue\n",
      "        old_users.append(a)\n",
      "    return df[df['author_name'].isin(old_users)]"
     ],
     "language": "python",
     "metadata": {},
     "outputs": [],
     "prompt_number": 213
    },
    {
     "cell_type": "code",
     "collapsed": false,
     "input": [
      "n_old = old_users(n_df)\n",
      "r_old = old_users(r_df)\n",
      "b_old = old_users(b_df)"
     ],
     "language": "python",
     "metadata": {},
     "outputs": [],
     "prompt_number": 214
    },
    {
     "cell_type": "code",
     "collapsed": false,
     "input": [
      "print(\"Numpy's number of old users is {}\".format(len(set(n_old['author_name']))))\n",
      "print(\"React's number of old users is {}\".format(len(set(r_old['author_name']))))\n",
      "print(\"Bitcoin's number of old users is {}\".format(len(set(b_old['author_name']))))"
     ],
     "language": "python",
     "metadata": {},
     "outputs": [
      {
       "output_type": "stream",
       "stream": "stdout",
       "text": [
        "Numpy's number of old users is 597\n",
        "React's number of old users is 826\n",
        "Bitcoin's number of old users is 352\n"
       ]
      }
     ],
     "prompt_number": 215
    },
    {
     "cell_type": "heading",
     "level": 3,
     "metadata": {},
     "source": [
      "6. How long do the older users stick around?"
     ]
    },
    {
     "cell_type": "code",
     "collapsed": false,
     "input": [
      "def stick_around(df):\n",
      "    '''\n",
      "    return 1. the median start date of the old user \n",
      "           2. the median last date of the old user\n",
      "    in 2-tuple form (1, 2)\n",
      "    '''\n",
      "    div = pick_div(df)\n",
      "    s = set(df['author_name'])\n",
      "    n_div = pick_div(df)\n",
      "    firsts = []\n",
      "    lasts = []\n",
      "    for a in s:\n",
      "        a_df = df[df['author_name'] == a]\n",
      "        a_commit_time_list = list(a_df[\"committer_time\"])\n",
      "        a_commit_time_list.sort()\n",
      "        first = a_commit_time_list[0]\n",
      "        if first >= n_div:\n",
      "            continue\n",
      "        last  = a_commit_time_list[-1]\n",
      "        first_int = int(time.mktime(first.timetuple()))\n",
      "        last_int = int(time.mktime(last.timetuple()))\n",
      "        firsts.append(first_int)\n",
      "        lasts.append(last_int)\n",
      "    first_med = statistics.median(firsts)\n",
      "    last_med = statistics.median(lasts)\n",
      "    return (datetime.datetime.fromtimestamp(first_med), datetime.datetime.fromtimestamp(last_med))\n"
     ],
     "language": "python",
     "metadata": {},
     "outputs": [],
     "prompt_number": 236
    },
    {
     "cell_type": "code",
     "collapsed": false,
     "input": [
      "r_median_time = stick_around(r_df)\n",
      "n_median_time = stick_around(n_df)\n",
      "b_median_time = stick_around(b_df)\n",
      "\n",
      "print(\"The median time React contributors stuck around is between %s and %s\" % r_median_time)\n",
      "print(\"The median time Numpy contributors stuck around is between %s and %s\" % n_median_time)\n",
      "print(\"The median time Bitcoin contributors stuck around is between %s and %s\" % b_median_time)"
     ],
     "language": "python",
     "metadata": {},
     "outputs": [
      {
       "output_type": "stream",
       "stream": "stdout",
       "text": [
        "The median time React contributors stuck around is between 2014-11-30 22:17:50.500000 and 2015-02-07 10:38:01\n",
        "The median time Numpy contributors stuck around is between 2014-01-05 11:25:25 and 2014-07-23 15:03:14\n",
        "The median time Bitcoin contributors stuck around is between 2012-10-24 03:04:41.500000 and 2013-03-28 15:51:47\n"
       ]
      }
     ],
     "prompt_number": 237
    },
    {
     "cell_type": "code",
     "collapsed": false,
     "input": [
      "def plot_contribution_length(df, name):\n",
      "    '''\n",
      "    return 1. the median start date of the old user \n",
      "           2. the median last date of the old user\n",
      "    in 2-tuple form (1, 2)\n",
      "    '''\n",
      "    div = pick_div(df)\n",
      "    s = set(df['author_name'])\n",
      "    n_div = pick_div(df)\n",
      "    lengths = []\n",
      "    commits = []\n",
      "    for a in s:\n",
      "        a_df = df[df['author_name'] == a]\n",
      "        a_commit_time_list = list(a_df[\"committer_time\"])\n",
      "        a_commit_time_list.sort()\n",
      "        first = a_commit_time_list[0]\n",
      "        last  = a_commit_time_list[-1]\n",
      "        if first < div:\n",
      "            lengths.append(last - first)\n",
      "            num_commits = len(a_df)\n",
      "            commits.append(num_commits)\n",
      "    \n",
      "    lengths = list(map(lambda l: (l.days + l.seconds / (3600.0 * 24.0)), lengths))\n",
      "    bins=range(30,int(max(lengths)), 30)\n",
      "    #plt.bar(range(len(lengths)), lengths)\n",
      "#     plt.hist(lengths, bins=bins)\n",
      "#     plt.title(\"Length of contributions for \" + name)\n",
      "#     plt.xlabel(\"Old Contributor\")\n",
      "#     plt.ylabel(\"Number of days between first and last commit\")\n",
      "#     plt.show()\n",
      "    \n",
      "    plt.scatter(lengths, commits)\n",
      "    plt.title(\"Contributor Data for \" + name)\n",
      "    plt.ylabel(\"Number of Commits\")\n",
      "    plt.xlabel(\"Number of days between first and last commit\")\n",
      "    plt.show()"
     ],
     "language": "python",
     "metadata": {},
     "outputs": [],
     "prompt_number": 262
    },
    {
     "cell_type": "code",
     "collapsed": false,
     "input": [
      "plot_contribution_length(n_df, \"Numpy\")\n",
      "plot_contribution_length(b_df, \"Bitcoin\")\n",
      "plot_contribution_length(r_df, \"React\")"
     ],
     "language": "python",
     "metadata": {},
     "outputs": [
      {
       "metadata": {},
       "output_type": "display_data",
       "png": "[encoded data removed]",
       "text": [
        "<Figure size 600x400 with 1 Axes>"
       ]
      },
      {
       "metadata": {},
       "output_type": "display_data",
       "png": "[encoded data removed]",
       "text": [
        "<Figure size 600x400 with 1 Axes>"
       ]
      },
      {
       "metadata": {},
       "output_type": "display_data",
       "png": "[encoded data removed]",
       "text": [
        "<Figure size 600x400 with 1 Axes>"
       ]
      }
     ],
     "prompt_number": 263
    },
    {
     "cell_type": "code",
     "collapsed": false,
     "input": [
      "def old_before_div(df):\n",
      "    '''\n",
      "    Returns the dataframe containing the commits by the old users before the dividing point\n",
      "    '''\n",
      "    div = pick_div(df)\n",
      "    div_year = div.year\n",
      "    div_month = div.month\n",
      "    div_day = monthrange(div_year, div_month)[1]\n",
      "    div = datetime.datetime(div_year, div_month, div_day)\n",
      "    old_df = old_users(df)\n",
      "    after_div_df = old_df[old_df['committer_time'] <= div]\n",
      "    return after_div_df"
     ],
     "language": "python",
     "metadata": {},
     "outputs": [],
     "prompt_number": 218
    },
    {
     "cell_type": "code",
     "collapsed": false,
     "input": [
      "def old_after_div(df):\n",
      "    '''\n",
      "    Returns the dataframe containing the commits by the old users after the dividing point\n",
      "    '''\n",
      "    div = pick_div(df)\n",
      "    div_year = div.year\n",
      "    div_month = div.month\n",
      "    div_day = monthrange(div_year, div_month)[1]\n",
      "    div = datetime.datetime(div_year, div_month, div_day)\n",
      "    old_df = old_users(df)\n",
      "    after_div_df = old_df[old_df['committer_time'] > div]\n",
      "    return after_div_df"
     ],
     "language": "python",
     "metadata": {},
     "outputs": [],
     "prompt_number": 219
    },
    {
     "cell_type": "code",
     "collapsed": false,
     "input": [
      "n_old_bef = old_before_div(n_df)\n",
      "r_old_bef = old_before_div(r_df)\n",
      "b_old_bef = old_before_div(b_df)\n",
      "n_old_aft = old_after_div(n_df)\n",
      "r_old_aft = old_after_div(r_df)\n",
      "b_old_aft = old_after_div(b_df)"
     ],
     "language": "python",
     "metadata": {},
     "outputs": [],
     "prompt_number": 220
    },
    {
     "cell_type": "code",
     "collapsed": false,
     "input": [
      "# These guys are the old contributors\n",
      "n_old = set(n_old_bef['author_name'])\n",
      "r_old = set(r_old_bef['author_name'])\n",
      "b_old = set(b_old_bef['author_name'])\n",
      "# These guys are the survivors.\n",
      "n_surv = set(n_old_aft['author_name'])\n",
      "r_surv = set(r_old_aft['author_name'])\n",
      "b_surv = set(b_old_aft['author_name'])\n",
      "# These guys are the non survivors.\n",
      "n_nonsurv = n_old - n_surv\n",
      "r_nonsurv = r_old - r_surv\n",
      "b_nonsurv = b_old - b_surv\n",
      "print(\"Number of old contributors\")\n",
      "print(\"Numpy: {}\".format(len(n_old)))\n",
      "print(\"React: {}\".format(len(r_old)))\n",
      "print(\"Bitcoin: {}\\n\".format(len(b_old)))\n",
      "\n",
      "print(\"Number of survivors\")\n",
      "print(\"Numpy: {}\".format(len(n_surv)))\n",
      "print(\"React: {}\".format(len(r_surv)))\n",
      "print(\"Bitcoin: {}\\n\".format(len(b_surv)))\n",
      "\n",
      "print(\"Number of non-survivors\")\n",
      "print(\"Numpy: {}\".format(len(n_nonsurv)))\n",
      "print(\"React: {}\".format(len(r_nonsurv)))\n",
      "print(\"Bitcoin: {}\".format(len(b_nonsurv)))"
     ],
     "language": "python",
     "metadata": {},
     "outputs": [
      {
       "output_type": "stream",
       "stream": "stdout",
       "text": [
        "Number of old contributors\n",
        "Numpy: 597\n",
        "React: 826\n",
        "Bitcoin: 352\n",
        "\n",
        "Number of survivors\n",
        "Numpy: 128\n",
        "React: 94\n",
        "Bitcoin: 61\n",
        "\n",
        "Number of non-survivors\n",
        "Numpy: 469\n",
        "React: 732\n",
        "Bitcoin: 291\n"
       ]
      }
     ],
     "prompt_number": 221
    },
    {
     "cell_type": "markdown",
     "metadata": {},
     "source": [
      "##### Findings\n",
      "1. Seems like most old contributors leave the project before the project becomes popular! 128 out of 597 from Numpy, 94 out of 826 from React, and 61 out of 352 from Bitcoin survived!"
     ]
    },
    {
     "cell_type": "markdown",
     "metadata": {},
     "source": [
      "### 7. How did old contributors' behaviour change from before the div point ?\n",
      "1. We will take only the old users who kept contributing after the div point (call them SURVIVORS from now on) to analyze their behaviour"
     ]
    },
    {
     "cell_type": "code",
     "collapsed": false,
     "input": [
      "# These dataframes contain commits by the survivors\n",
      "n_old_bef_surv = n_old_bef[n_old_bef['author_name'].isin(n_surv)]\n",
      "r_old_bef_surv = r_old_bef[r_old_bef['author_name'].isin(r_surv)]\n",
      "b_old_bef_surv = b_old_bef[b_old_bef['author_name'].isin(b_surv)]"
     ],
     "language": "python",
     "metadata": {},
     "outputs": [],
     "prompt_number": 222
    },
    {
     "cell_type": "code",
     "collapsed": false,
     "input": [
      "# Array to be used as the heights of the first bar chart below. \n",
      "num_commits_array = []\n",
      "num_commits_array.append(len(n_old_bef_surv))\n",
      "num_commits_array.append(len(n_old_aft))\n",
      "num_commits_array.append(len(r_old_bef_surv))\n",
      "num_commits_array.append(len(r_old_aft))\n",
      "num_commits_array.append(len(b_old_bef_surv))\n",
      "num_commits_array.append(len(b_old_aft))"
     ],
     "language": "python",
     "metadata": {},
     "outputs": [],
     "prompt_number": 223
    },
    {
     "cell_type": "code",
     "collapsed": false,
     "input": [
      "plt.ylabel('Number of commits by the survivors')\n",
      "plt.xlabel('Project')\n",
      "plt.title(\"The survivors' number of commits before and after \\n\\n Blue = Before div \\n Red = After div\")\n",
      "plt.bar(x=[1, 2, 4, 5 ,7 ,8], \\\n",
      "        height=num_commits_array, \\\n",
      "        color=['blue','red','blue','red','blue','red'], \\\n",
      "        tick_label=['numpy', 'numpy', 'react', 'react', 'bitcoin', 'bitcoin'])"
     ],
     "language": "python",
     "metadata": {},
     "outputs": [
      {
       "metadata": {},
       "output_type": "pyout",
       "prompt_number": 224,
       "text": [
        "<BarContainer object of 6 artists>"
       ]
      },
      {
       "metadata": {},
       "output_type": "display_data",
       "png": "[encoded data removed]",
       "text": [
        "<Figure size 600x400 with 1 Axes>"
       ]
      }
     ],
     "prompt_number": 224
    },
    {
     "cell_type": "code",
     "collapsed": false,
     "input": [
      "# Array to be used as the heights of the second bar chart below. \n",
      "num_commits_array_2 = []\n",
      "num_commits_array_2.append((len(n_old_bef) - len(n_old_bef_surv)) / len(n_nonsurv))\n",
      "num_commits_array_2.append(len(n_old_bef_surv) / len(n_surv))\n",
      "num_commits_array_2.append((len(r_old_bef) - len(r_old_bef_surv)) / len(r_nonsurv))\n",
      "num_commits_array_2.append(len(r_old_bef_surv) / len(r_surv))\n",
      "num_commits_array_2.append((len(b_old_bef) - len(b_old_bef_surv)) / len(b_nonsurv))\n",
      "num_commits_array_2.append(len(b_old_bef_surv) / len(b_surv))"
     ],
     "language": "python",
     "metadata": {},
     "outputs": [],
     "prompt_number": 225
    },
    {
     "cell_type": "code",
     "collapsed": false,
     "input": [
      "plt.ylabel('Avg number of commits')\n",
      "plt.xlabel('Project')\n",
      "plt.title('Avg number of commits by non-survivors and survivors before the div point \\n\\n Blue = non-survivors \\n Red = survivors')\n",
      "plt.bar(x=[1, 2, 4, 5 ,7 ,8], \\\n",
      "        height=num_commits_array_2, \\\n",
      "        color=['blue','red','blue','red','blue','red'], \\\n",
      "        tick_label=['numpy', 'numpy', 'react', 'react', 'bitcoin', 'bitcoin'])"
     ],
     "language": "python",
     "metadata": {},
     "outputs": [
      {
       "metadata": {},
       "output_type": "pyout",
       "prompt_number": 226,
       "text": [
        "<BarContainer object of 6 artists>"
       ]
      },
      {
       "metadata": {},
       "output_type": "display_data",
       "png": "[encoded data removed]",
       "text": [
        "<Figure size 600x400 with 1 Axes>"
       ]
      }
     ],
     "prompt_number": 226
    },
    {
     "cell_type": "markdown",
     "metadata": {},
     "source": [
      "##### Findings\n",
      "1. (From first bar chart) couldn't find a uniform pattern on the change of survivors' number of commit after the div point. (numpy survivors contributed less, but for the other two projects, the survivors started contributing more)\n",
      "2. (From second bar chart) we FOUND that the survivors contributed a lot more to the projects compared to the non-survivors. "
     ]
    },
    {
     "cell_type": "code",
     "collapsed": false,
     "input": [
      "print('hello world')"
     ],
     "language": "python",
     "metadata": {},
     "outputs": [
      {
       "output_type": "stream",
       "stream": "stdout",
       "text": [
        "hello world\n"
       ]
      }
     ],
     "prompt_number": 227
    },
    {
     "cell_type": "code",
     "collapsed": false,
     "input": [],
     "language": "python",
     "metadata": {},
     "outputs": [],
     "prompt_number": 129
    },
    {
     "cell_type": "code",
     "collapsed": false,
     "input": [],
     "language": "python",
     "metadata": {},
     "outputs": [],
     "prompt_number": 129
    },
    {
     "cell_type": "code",
     "collapsed": false,
     "input": [],
     "language": "python",
     "metadata": {},
     "outputs": [],
     "prompt_number": 129
    },
    {
     "cell_type": "code",
     "collapsed": false,
     "input": [],
     "language": "python",
     "metadata": {},
     "outputs": [],
     "prompt_number": 129
    },
    {
     "cell_type": "code",
     "collapsed": false,
     "input": [],
     "language": "python",
     "metadata": {},
     "outputs": [],
     "prompt_number": 129
    },
    {
     "cell_type": "code",
     "collapsed": false,
     "input": [],
     "language": "python",
     "metadata": {},
     "outputs": [],
     "prompt_number": 129
    },
    {
     "cell_type": "code",
     "collapsed": false,
     "input": [],
     "language": "python",
     "metadata": {},
     "outputs": [],
     "prompt_number": 129
    },
    {
     "cell_type": "code",
     "collapsed": false,
     "input": [],
     "language": "python",
     "metadata": {},
     "outputs": [],
     "prompt_number": 129
    },
    {
     "cell_type": "code",
     "collapsed": false,
     "input": [],
     "language": "python",
     "metadata": {},
     "outputs": [],
     "prompt_number": 129
    },
    {
     "cell_type": "code",
     "collapsed": false,
     "input": [
      "x, y = zip(*lists) # unpack a list of pairs into two tuples\n",
      "\n",
      "plt.plot(x, y)\n",
      "plt.show()"
     ],
     "language": "python",
     "metadata": {},
     "outputs": [
      {
       "ename": "NameError",
       "evalue": "name 'lists' is not defined",
       "output_type": "pyerr",
       "traceback": [
        "\u001b[0;31m---------------------------------------------------------------------------\u001b[0m\n\u001b[0;31mNameError\u001b[0m                                 Traceback (most recent call last)",
        "\u001b[0;32m<ipython-input-130-035547b9f8b1>\u001b[0m in \u001b[0;36m<module>\u001b[0;34m()\u001b[0m\n\u001b[0;32m----> 1\u001b[0;31m \u001b[0mx\u001b[0m\u001b[0;34m,\u001b[0m \u001b[0my\u001b[0m \u001b[0;34m=\u001b[0m \u001b[0mzip\u001b[0m\u001b[0;34m(\u001b[0m\u001b[0;34m*\u001b[0m\u001b[0mlists\u001b[0m\u001b[0;34m)\u001b[0m \u001b[0;31m# unpack a list of pairs into two tuples\u001b[0m\u001b[0;34m\u001b[0m\u001b[0m\n\u001b[0m\u001b[1;32m      2\u001b[0m \u001b[0;34m\u001b[0m\u001b[0m\n\u001b[1;32m      3\u001b[0m \u001b[0mplt\u001b[0m\u001b[0;34m.\u001b[0m\u001b[0mplot\u001b[0m\u001b[0;34m(\u001b[0m\u001b[0mx\u001b[0m\u001b[0;34m,\u001b[0m \u001b[0my\u001b[0m\u001b[0;34m)\u001b[0m\u001b[0;34m\u001b[0m\u001b[0m\n\u001b[1;32m      4\u001b[0m \u001b[0mplt\u001b[0m\u001b[0;34m.\u001b[0m\u001b[0mshow\u001b[0m\u001b[0;34m(\u001b[0m\u001b[0;34m)\u001b[0m\u001b[0;34m\u001b[0m\u001b[0m\n",
        "\u001b[0;31mNameError\u001b[0m: name 'lists' is not defined"
       ]
      }
     ],
     "prompt_number": 130
    },
    {
     "cell_type": "code",
     "collapsed": false,
     "input": [
      "import collections"
     ],
     "language": "python",
     "metadata": {},
     "outputs": []
    },
    {
     "cell_type": "code",
     "collapsed": false,
     "input": [
      "collections.OrderedDict"
     ],
     "language": "python",
     "metadata": {},
     "outputs": []
    },
    {
     "cell_type": "code",
     "collapsed": false,
     "input": [],
     "language": "python",
     "metadata": {},
     "outputs": []
    },
    {
     "cell_type": "code",
     "collapsed": false,
     "input": [
      "numpy_df[numpy_df['month'] == \"2001-12\"]"
     ],
     "language": "python",
     "metadata": {},
     "outputs": []
    },
    {
     "cell_type": "code",
     "collapsed": false,
     "input": [
      "# read the entire file into a python array\n",
      "with open('C:/Users/Alberto/nutrients.json', 'rb') as f:\n",
      "   data = f.readlines()\n",
      "\n",
      "# remove the trailing \"\\n\" from each line\n",
      "data = map(lambda x: x.rstrip(), data)\n",
      "\n",
      "# each element of 'data' is an individual JSON object.\n",
      "# i want to convert it into an *array* of JSON objects\n",
      "# which, in and of itself, is one large JSON object\n",
      "# basically... add square brackets to the beginning\n",
      "# and end, and have all the individual business JSON objects\n",
      "# separated by a comma\n",
      "data_json_str = \"[\" + \",\".join(data) + \"]\"\n",
      "\n",
      "# now, load it into pandas\n",
      "data_df = pd.read_json(data_json_str)"
     ],
     "language": "python",
     "metadata": {},
     "outputs": []
    }
   ],
   "metadata": {}
  }
 ]
}